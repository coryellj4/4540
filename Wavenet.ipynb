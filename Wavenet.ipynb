{
  "nbformat": 4,
  "nbformat_minor": 0,
  "metadata": {
    "colab": {
      "provenance": [],
      "gpuType": "T4",
      "authorship_tag": "ABX9TyMMwCCEjYgZeifr932SQ6Ux",
      "include_colab_link": true
    },
    "kernelspec": {
      "name": "python3",
      "display_name": "Python 3"
    },
    "language_info": {
      "name": "python"
    },
    "accelerator": "GPU"
  },
  "cells": [
    {
      "cell_type": "markdown",
      "metadata": {
        "id": "view-in-github",
        "colab_type": "text"
      },
      "source": [
        "<a href=\"https://colab.research.google.com/github/coryellj4/4540/blob/main/Wavenet.ipynb\" target=\"_parent\"><img src=\"https://colab.research.google.com/assets/colab-badge.svg\" alt=\"Open In Colab\"/></a>"
      ]
    },
    {
      "cell_type": "code",
      "source": [
        "!git clone https://github.com/Vichoko/pytorch-wavenet.git"
      ],
      "metadata": {
        "colab": {
          "base_uri": "https://localhost:8080/"
        },
        "id": "lqIZDHXLGTG-",
        "outputId": "37430a8d-0958-47fc-f015-a7298952cb30"
      },
      "execution_count": null,
      "outputs": [
        {
          "output_type": "stream",
          "name": "stdout",
          "text": [
            "fatal: destination path 'pytorch-wavenet' already exists and is not an empty directory.\n"
          ]
        }
      ]
    },
    {
      "cell_type": "code",
      "execution_count": 6,
      "metadata": {
        "id": "R6JuL-ZBaejR"
      },
      "outputs": [],
      "source": [
        "import os\n",
        "import sys\n",
        "sys.path.append('pytorch-wavenet')\n",
        "\n",
        "import torch\n",
        "from wavenet_model import *\n",
        "from audio_data import WavenetDataset\n",
        "from wavenet_training import *\n",
        "from model_logging import *\n",
        "\n"
      ]
    },
    {
      "cell_type": "code",
      "source": [
        "# initialize cuda option\n",
        "dtype = torch.FloatTensor # data type\n",
        "ltype = torch.LongTensor # label type\n",
        "\n",
        "use_cuda = torch.cuda.is_available()\n",
        "if use_cuda:\n",
        "    print('use gpu')\n",
        "    dtype = torch.cuda.FloatTensor\n",
        "    ltype = torch.cuda.LongTensor"
      ],
      "metadata": {
        "id": "CneoT1IZai8c",
        "colab": {
          "base_uri": "https://localhost:8080/"
        },
        "outputId": "d67ab3de-8423-460f-bb5e-75ed12a5d364"
      },
      "execution_count": 7,
      "outputs": [
        {
          "output_type": "stream",
          "name": "stdout",
          "text": [
            "use gpu\n"
          ]
        }
      ]
    },
    {
      "cell_type": "code",
      "source": [
        "model = WaveNetModel(layers=5,\n",
        "                     blocks=2,\n",
        "                     dilation_channels=32,\n",
        "                     residual_channels=32,\n",
        "                     skip_channels=512,\n",
        "                     end_channels=256,\n",
        "                     output_length=16,\n",
        "                     dtype=dtype,\n",
        "                     bias=True)\n",
        "# model = load_latest_model_from('snapshots', use_cuda=use_cuda)\n",
        "\n",
        "print('model: ', model)\n",
        "print('receptive field: ', model.receptive_field)\n",
        "print('parameter count: ', model.parameter_count())"
      ],
      "metadata": {
        "id": "hidLXQp1ai25",
        "colab": {
          "base_uri": "https://localhost:8080/"
        },
        "outputId": "39044b4e-2416-48ad-e64c-5f7dae7693b1"
      },
      "execution_count": 8,
      "outputs": [
        {
          "output_type": "stream",
          "name": "stdout",
          "text": [
            "model:  WaveNetModel(\n",
            "  (filter_convs): ModuleList(\n",
            "    (0-9): 10 x Conv1d(32, 32, kernel_size=(2,), stride=(1,))\n",
            "  )\n",
            "  (gate_convs): ModuleList(\n",
            "    (0-9): 10 x Conv1d(32, 32, kernel_size=(2,), stride=(1,))\n",
            "  )\n",
            "  (residual_convs): ModuleList(\n",
            "    (0-9): 10 x Conv1d(32, 32, kernel_size=(1,), stride=(1,))\n",
            "  )\n",
            "  (skip_convs): ModuleList(\n",
            "    (0-9): 10 x Conv1d(32, 512, kernel_size=(1,), stride=(1,))\n",
            "  )\n",
            "  (start_conv): Conv1d(256, 32, kernel_size=(1,), stride=(1,))\n",
            "  (end_conv_1): Conv1d(512, 256, kernel_size=(1,), stride=(1,))\n",
            "  (end_conv_2): Conv1d(256, 256, kernel_size=(1,), stride=(1,))\n",
            ")\n",
            "receptive field:  63\n",
            "parameter count:  426464\n"
          ]
        }
      ]
    },
    {
      "cell_type": "code",
      "source": [
        "data = WavenetDataset(dataset_file='pytorch-wavenet/train_samples/bach_chaconne/dataset.npz',\n",
        "                      item_length=model.receptive_field + model.output_length - 1,\n",
        "                      target_length=model.output_length,\n",
        "                      file_location='train_samples/bach_chaconne',\n",
        "                      test_stride=500)\n",
        "print('the dataset has ' + str(len(data)) + ' items')"
      ],
      "metadata": {
        "id": "c-bDsQ5haivJ",
        "colab": {
          "base_uri": "https://localhost:8080/"
        },
        "outputId": "67e771b9-03c9-452a-9e16-32af4bf33673"
      },
      "execution_count": 9,
      "outputs": [
        {
          "output_type": "stream",
          "name": "stdout",
          "text": [
            "one hot input\n",
            "the dataset has 598464 items\n"
          ]
        }
      ]
    },
    {
      "cell_type": "code",
      "source": [
        "def generate_and_log_samples(step):\n",
        "    sample_length=32000\n",
        "    gen_model = load_latest_model_from('snapshots', use_cuda=False)\n",
        "    print(\"start generating...\")\n",
        "    samples = generate_audio(gen_model,\n",
        "                             length=sample_length,\n",
        "                             temperatures=[0.5])\n",
        "    tf_samples = tf.convert_to_tensor(samples, dtype=tf.float32)\n",
        "    logger.audio_summary('temperature_0.5', tf_samples, step, sr=16000)\n",
        "\n",
        "    samples = generate_audio(gen_model,\n",
        "                             length=sample_length,\n",
        "                             temperatures=[1.])\n",
        "    tf_samples = tf.convert_to_tensor(samples, dtype=tf.float32)\n",
        "    logger.audio_summary('temperature_1.0', tf_samples, step, sr=16000)\n",
        "    print(\"audio clips generated\")\n",
        "model.cuda()\n",
        "logger = Logger(log_interval=200,\n",
        "                           validation_interval=400,\n",
        "                           generate_interval=1000)\n",
        "\n",
        "# logger = Logger(log_interval=200,\n",
        "#                 validation_interval=400,\n",
        "#                 generate_interval=1000)\n",
        "os.makedirs('snapshots', exist_ok=True)\n",
        "trainer = WavenetTrainer(model=model,\n",
        "                         dataset=data,\n",
        "                         lr=0.001,\n",
        "                         snapshot_path='snapshots',\n",
        "                         snapshot_name='chaconne_model',\n",
        "                         snapshot_interval=1000,\n",
        "                         logger=logger,\n",
        "                         dtype=dtype,\n",
        "                         ltype=ltype)\n",
        "\n",
        "print('start training...')\n",
        "trainer.train(batch_size=16,\n",
        "              epochs=1)\n",
        "\n"
      ],
      "metadata": {
        "id": "_w3Gz017aiZc",
        "colab": {
          "base_uri": "https://localhost:8080/"
        },
        "outputId": "8814127e-831b-48a2-9fa7-6b933a3e81fb"
      },
      "execution_count": null,
      "outputs": [
        {
          "output_type": "stream",
          "name": "stdout",
          "text": [
            "start training...\n",
            "epoch 0\n",
            "one training step does take approximately 0.16564294576644897 seconds)\n",
            "loss at step 200: tensor(5.0171, device='cuda:0', grad_fn=<DivBackward0>)\n",
            "loss at step 400: tensor(4.4602, device='cuda:0', grad_fn=<DivBackward0>)\n",
            "validation loss: tensor(4.5600, device='cuda:0', grad_fn=<DivBackward0>)\n",
            "validation accuracy: tensor(5.4003, device='cuda:0')%\n",
            "loss at step 600: tensor(4.1217, device='cuda:0', grad_fn=<DivBackward0>)\n",
            "loss at step 800: tensor(3.7348, device='cuda:0', grad_fn=<DivBackward0>)\n",
            "validation loss: tensor(3.9258, device='cuda:0', grad_fn=<DivBackward0>)\n",
            "validation accuracy: tensor(7.6626, device='cuda:0')%\n",
            "loss at step 1000: tensor(3.6181, device='cuda:0', grad_fn=<DivBackward0>)\n",
            "loss at step 1200: tensor(3.5487, device='cuda:0', grad_fn=<DivBackward0>)\n",
            "validation loss: tensor(3.8477, device='cuda:0', grad_fn=<DivBackward0>)\n",
            "validation accuracy: tensor(7.6835, device='cuda:0')%\n",
            "loss at step 1400: tensor(3.5066, device='cuda:0', grad_fn=<DivBackward0>)\n",
            "loss at step 1600: tensor(3.4893, device='cuda:0', grad_fn=<DivBackward0>)\n",
            "validation loss: tensor(3.7750, device='cuda:0', grad_fn=<DivBackward0>)\n",
            "validation accuracy: tensor(8.1057, device='cuda:0')%\n",
            "loss at step 1800: tensor(3.4648, device='cuda:0', grad_fn=<DivBackward0>)\n",
            "loss at step 2000: tensor(3.4334, device='cuda:0', grad_fn=<DivBackward0>)\n",
            "validation loss: tensor(3.7277, device='cuda:0', grad_fn=<DivBackward0>)\n",
            "validation accuracy: tensor(8.2100, device='cuda:0')%\n",
            "loss at step 2200: tensor(3.4300, device='cuda:0', grad_fn=<DivBackward0>)\n",
            "loss at step 2400: tensor(3.4309, device='cuda:0', grad_fn=<DivBackward0>)\n",
            "validation loss: tensor(3.7145, device='cuda:0', grad_fn=<DivBackward0>)\n",
            "validation accuracy: tensor(8.3924, device='cuda:0')%\n",
            "loss at step 2600: tensor(3.4005, device='cuda:0', grad_fn=<DivBackward0>)\n",
            "loss at step 2800: tensor(3.3973, device='cuda:0', grad_fn=<DivBackward0>)\n",
            "validation loss: tensor(3.6833, device='cuda:0', grad_fn=<DivBackward0>)\n",
            "validation accuracy: tensor(8.1526, device='cuda:0')%\n",
            "loss at step 3000: tensor(3.4077, device='cuda:0', grad_fn=<DivBackward0>)\n",
            "loss at step 3200: tensor(3.3944, device='cuda:0', grad_fn=<DivBackward0>)\n",
            "validation loss: tensor(3.6575, device='cuda:0', grad_fn=<DivBackward0>)\n",
            "validation accuracy: tensor(8.5853, device='cuda:0')%\n",
            "loss at step 3400: tensor(3.3670, device='cuda:0', grad_fn=<DivBackward0>)\n"
          ]
        }
      ]
    },
    {
      "cell_type": "code",
      "source": [
        "\n",
        "\n",
        "start_data = data[250000][0] # use start data from the data set\n",
        "start_data = torch.max(start_data, 0)[1] # convert one hot vectors to integers\n",
        "\n",
        "def prog_callback(step, total_steps):\n",
        "    print(str(100 * step // total_steps) + \"% generated\")\n",
        "\n",
        "model.cpu()\n",
        "generated = model.generate_fast(num_samples=160000,\n",
        "                                 first_samples=start_data,\n",
        "                                 progress_callback=prog_callback,\n",
        "                                 progress_interval=1000,\n",
        "                                 temperature=1.0,\n",
        "                                 regularize=0.)\n",
        "\n"
      ],
      "metadata": {
        "id": "D3_nFDkIayCz"
      },
      "execution_count": null,
      "outputs": []
    },
    {
      "cell_type": "code",
      "source": [
        "import IPython.display as ipd\n",
        "\n",
        "ipd.Audio(generated, rate=16000)"
      ],
      "metadata": {
        "id": "YxQFqFXZax6S"
      },
      "execution_count": null,
      "outputs": []
    },
    {
      "cell_type": "code",
      "source": [],
      "metadata": {
        "id": "5no9kkHDyfZ_"
      },
      "execution_count": null,
      "outputs": []
    }
  ]
}