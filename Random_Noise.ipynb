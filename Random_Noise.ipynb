{
  "nbformat": 4,
  "nbformat_minor": 0,
  "metadata": {
    "colab": {
      "provenance": [],
      "authorship_tag": "ABX9TyPnC5dtvZB8m1K9lW3zJkYP",
      "include_colab_link": true
    },
    "kernelspec": {
      "name": "python3",
      "display_name": "Python 3"
    },
    "language_info": {
      "name": "python"
    }
  },
  "cells": [
    {
      "cell_type": "markdown",
      "metadata": {
        "id": "view-in-github",
        "colab_type": "text"
      },
      "source": [
        "<a href=\"https://colab.research.google.com/github/coryellj4/4540/blob/main/Random_Noise.ipynb\" target=\"_parent\"><img src=\"https://colab.research.google.com/assets/colab-badge.svg\" alt=\"Open In Colab\"/></a>"
      ]
    },
    {
      "cell_type": "markdown",
      "source": [
        "##Random Noise\n",
        "\n",
        "White noise is a random selecection of valuse usally from a normal ditriburtion<br><br>\n",
        "Brown noise is a ranning total of white noise and is called random walk noise as it walks \"up\" and \"down\" with positive and negitve values from the white noise <br><br>\n",
        "Pink Noise"
      ],
      "metadata": {
        "id": "WrhPuhMPm1kM"
      }
    },
    {
      "cell_type": "code",
      "execution_count": null,
      "metadata": {
        "id": "-E3z-oz-mbEy"
      },
      "outputs": [],
      "source": []
    }
  ]
}