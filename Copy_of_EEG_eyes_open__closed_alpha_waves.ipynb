{
  "cells": [
    {
      "cell_type": "markdown",
      "metadata": {
        "id": "view-in-github",
        "colab_type": "text"
      },
      "source": [
        "<a href=\"https://colab.research.google.com/github/coryellj4/4540/blob/main/Copy_of_EEG_eyes_open__closed_alpha_waves.ipynb\" target=\"_parent\"><img src=\"https://colab.research.google.com/assets/colab-badge.svg\" alt=\"Open In Colab\"/></a>"
      ]
    },
    {
      "cell_type": "markdown",
      "source": [
        "[What is EEG and time-frequency analysis?](https://youtu.be/FIqvTUOGFOE?si=5hFMbAp3RpghlKoM)\n",
        "\n"
      ],
      "metadata": {
        "id": "dj9-a-fZfaic"
      }
    },
    {
      "cell_type": "markdown",
      "source": [
        "[How to make predictions based on EEG?](https://youtu.be/SKIaW5YvF6Y?si=R5AlNCTIsh3AjNkn)"
      ],
      "metadata": {
        "id": "LeqUPLGThph7"
      }
    },
    {
      "cell_type": "code",
      "execution_count": null,
      "metadata": {
        "id": "aXUs20D0tXIe"
      },
      "outputs": [],
      "source": [
        "# This Python 3 environment comes with many helpful analytics libraries installed\n",
        "# It is defined by the kaggle/python docker image: https://github.com/kaggle/docker-python\n",
        "# For example, here's several helpful packages to load in\n",
        "\n",
        "import numpy as np # linear algebra\n",
        "import pandas as pd # data processing, CSV file I/O (e.g. pd.read_csv)\n",
        "import matplotlib.pyplot as plt\n",
        "import tensorflow as tf\n",
        "from tensorflow.keras.models import Sequential, Model\n",
        "from tensorflow.keras.layers import Dense, Input\n",
        "from tensorflow.keras.layers import Flatten\n",
        "from tensorflow.keras.layers import Dropout\n",
        "from tensorflow.keras.layers import Conv1D, Conv2D\n",
        "from tensorflow.keras.layers import MaxPooling1D, MaxPooling2D\n",
        "from tensorflow.keras.utils import to_categorical\n",
        "from sklearn.model_selection import train_test_split\n",
        "from keras.callbacks import EarlyStopping\n",
        "import scipy.signal as ss\n",
        "\n",
        "# Input data files are available in the \"../input/\" directory.\n",
        "# For example, running this (by clicking run or pressing Shift+Enter) will list all files under the input directory\n",
        "\n",
        "import os\n",
        "for dirname, _, filenames in os.walk('/kaggle/input'):\n",
        "    for filename in filenames:\n",
        "        print(os.path.join(dirname, filename))\n",
        "\n",
        "# Any results you write to the current directory are saved as output."
      ]
    },
    {
      "cell_type": "markdown",
      "metadata": {
        "id": "BVWJz7_GtXIm"
      },
      "source": [
        "# Welcome\n",
        "This notebook will walk you through how to analyse brain wave data. This data was collected in the Neural Engineering Laboratory at the University of Missouri - Columbia."
      ]
    },
    {
      "cell_type": "code",
      "source": [
        "# clone github repo with the data\n",
        "!git clone https://github.com/davidfague/4540_NM_ML.git"
      ],
      "metadata": {
        "id": "FoqM6g_NavRU",
        "outputId": "fc7b3704-70a6-4a60-b311-bda4ba6317f5",
        "colab": {
          "base_uri": "https://localhost:8080/"
        }
      },
      "execution_count": null,
      "outputs": [
        {
          "output_type": "stream",
          "name": "stdout",
          "text": [
            "Cloning into '4540_NM_ML'...\n",
            "remote: Enumerating objects: 152, done.\u001b[K\n",
            "remote: Counting objects: 100% (57/57), done.\u001b[K\n",
            "remote: Compressing objects: 100% (55/55), done.\u001b[K\n",
            "remote: Total 152 (delta 22), reused 0 (delta 0), pack-reused 95 (from 1)\u001b[K\n",
            "Receiving objects: 100% (152/152), 27.72 MiB | 8.96 MiB/s, done.\n",
            "Resolving deltas: 100% (54/54), done.\n"
          ]
        }
      ]
    },
    {
      "cell_type": "code",
      "source": [
        "# read the data into pandas dataframe\n",
        "df = pd.read_csv('4540_NM_ML/Project 1/OpenBCI-RAW-2020-03-10_08-53-44.txt',skiprows=6,header=None)"
      ],
      "metadata": {
        "id": "L115hIJMbi1F"
      },
      "execution_count": null,
      "outputs": []
    },
    {
      "cell_type": "code",
      "execution_count": null,
      "metadata": {
        "colab": {
          "base_uri": "https://localhost:8080/",
          "height": 206
        },
        "id": "0eHKReMgtXI0",
        "outputId": "5caf9d6c-8d70-4eb3-93f7-0425d96f0711"
      },
      "outputs": [
        {
          "output_type": "execute_result",
          "data": {
            "text/plain": [
              "   0      1      2      3      4      5      6      7              8  \\\n",
              "0  0 -76.20   1.38 -34.35 -51.09  0.912  0.112 -0.464   08:54:30.263   \n",
              "1  1 -36.12  29.01  76.34  48.51  0.912  0.112 -0.464   08:54:30.263   \n",
              "2  2 -43.59  31.42  58.11  30.55  0.912  0.112 -0.464   08:54:30.263   \n",
              "3  3 -77.29   2.68 -19.45 -49.45  0.912  0.112 -0.464   08:54:30.274   \n",
              "4  4 -57.05  17.48  52.08  23.03  0.912  0.112 -0.464   08:54:30.274   \n",
              "\n",
              "              9  \n",
              "0  1.583848e+12  \n",
              "1  1.583848e+12  \n",
              "2  1.583848e+12  \n",
              "3  1.583848e+12  \n",
              "4  1.583848e+12  "
            ],
            "text/html": [
              "\n",
              "  <div id=\"df-aa4de32e-7c48-460e-aff3-d003180310b0\" class=\"colab-df-container\">\n",
              "    <div>\n",
              "<style scoped>\n",
              "    .dataframe tbody tr th:only-of-type {\n",
              "        vertical-align: middle;\n",
              "    }\n",
              "\n",
              "    .dataframe tbody tr th {\n",
              "        vertical-align: top;\n",
              "    }\n",
              "\n",
              "    .dataframe thead th {\n",
              "        text-align: right;\n",
              "    }\n",
              "</style>\n",
              "<table border=\"1\" class=\"dataframe\">\n",
              "  <thead>\n",
              "    <tr style=\"text-align: right;\">\n",
              "      <th></th>\n",
              "      <th>0</th>\n",
              "      <th>1</th>\n",
              "      <th>2</th>\n",
              "      <th>3</th>\n",
              "      <th>4</th>\n",
              "      <th>5</th>\n",
              "      <th>6</th>\n",
              "      <th>7</th>\n",
              "      <th>8</th>\n",
              "      <th>9</th>\n",
              "    </tr>\n",
              "  </thead>\n",
              "  <tbody>\n",
              "    <tr>\n",
              "      <th>0</th>\n",
              "      <td>0</td>\n",
              "      <td>-76.20</td>\n",
              "      <td>1.38</td>\n",
              "      <td>-34.35</td>\n",
              "      <td>-51.09</td>\n",
              "      <td>0.912</td>\n",
              "      <td>0.112</td>\n",
              "      <td>-0.464</td>\n",
              "      <td>08:54:30.263</td>\n",
              "      <td>1.583848e+12</td>\n",
              "    </tr>\n",
              "    <tr>\n",
              "      <th>1</th>\n",
              "      <td>1</td>\n",
              "      <td>-36.12</td>\n",
              "      <td>29.01</td>\n",
              "      <td>76.34</td>\n",
              "      <td>48.51</td>\n",
              "      <td>0.912</td>\n",
              "      <td>0.112</td>\n",
              "      <td>-0.464</td>\n",
              "      <td>08:54:30.263</td>\n",
              "      <td>1.583848e+12</td>\n",
              "    </tr>\n",
              "    <tr>\n",
              "      <th>2</th>\n",
              "      <td>2</td>\n",
              "      <td>-43.59</td>\n",
              "      <td>31.42</td>\n",
              "      <td>58.11</td>\n",
              "      <td>30.55</td>\n",
              "      <td>0.912</td>\n",
              "      <td>0.112</td>\n",
              "      <td>-0.464</td>\n",
              "      <td>08:54:30.263</td>\n",
              "      <td>1.583848e+12</td>\n",
              "    </tr>\n",
              "    <tr>\n",
              "      <th>3</th>\n",
              "      <td>3</td>\n",
              "      <td>-77.29</td>\n",
              "      <td>2.68</td>\n",
              "      <td>-19.45</td>\n",
              "      <td>-49.45</td>\n",
              "      <td>0.912</td>\n",
              "      <td>0.112</td>\n",
              "      <td>-0.464</td>\n",
              "      <td>08:54:30.274</td>\n",
              "      <td>1.583848e+12</td>\n",
              "    </tr>\n",
              "    <tr>\n",
              "      <th>4</th>\n",
              "      <td>4</td>\n",
              "      <td>-57.05</td>\n",
              "      <td>17.48</td>\n",
              "      <td>52.08</td>\n",
              "      <td>23.03</td>\n",
              "      <td>0.912</td>\n",
              "      <td>0.112</td>\n",
              "      <td>-0.464</td>\n",
              "      <td>08:54:30.274</td>\n",
              "      <td>1.583848e+12</td>\n",
              "    </tr>\n",
              "  </tbody>\n",
              "</table>\n",
              "</div>\n",
              "    <div class=\"colab-df-buttons\">\n",
              "\n",
              "  <div class=\"colab-df-container\">\n",
              "    <button class=\"colab-df-convert\" onclick=\"convertToInteractive('df-aa4de32e-7c48-460e-aff3-d003180310b0')\"\n",
              "            title=\"Convert this dataframe to an interactive table.\"\n",
              "            style=\"display:none;\">\n",
              "\n",
              "  <svg xmlns=\"http://www.w3.org/2000/svg\" height=\"24px\" viewBox=\"0 -960 960 960\">\n",
              "    <path d=\"M120-120v-720h720v720H120Zm60-500h600v-160H180v160Zm220 220h160v-160H400v160Zm0 220h160v-160H400v160ZM180-400h160v-160H180v160Zm440 0h160v-160H620v160ZM180-180h160v-160H180v160Zm440 0h160v-160H620v160Z\"/>\n",
              "  </svg>\n",
              "    </button>\n",
              "\n",
              "  <style>\n",
              "    .colab-df-container {\n",
              "      display:flex;\n",
              "      gap: 12px;\n",
              "    }\n",
              "\n",
              "    .colab-df-convert {\n",
              "      background-color: #E8F0FE;\n",
              "      border: none;\n",
              "      border-radius: 50%;\n",
              "      cursor: pointer;\n",
              "      display: none;\n",
              "      fill: #1967D2;\n",
              "      height: 32px;\n",
              "      padding: 0 0 0 0;\n",
              "      width: 32px;\n",
              "    }\n",
              "\n",
              "    .colab-df-convert:hover {\n",
              "      background-color: #E2EBFA;\n",
              "      box-shadow: 0px 1px 2px rgba(60, 64, 67, 0.3), 0px 1px 3px 1px rgba(60, 64, 67, 0.15);\n",
              "      fill: #174EA6;\n",
              "    }\n",
              "\n",
              "    .colab-df-buttons div {\n",
              "      margin-bottom: 4px;\n",
              "    }\n",
              "\n",
              "    [theme=dark] .colab-df-convert {\n",
              "      background-color: #3B4455;\n",
              "      fill: #D2E3FC;\n",
              "    }\n",
              "\n",
              "    [theme=dark] .colab-df-convert:hover {\n",
              "      background-color: #434B5C;\n",
              "      box-shadow: 0px 1px 3px 1px rgba(0, 0, 0, 0.15);\n",
              "      filter: drop-shadow(0px 1px 2px rgba(0, 0, 0, 0.3));\n",
              "      fill: #FFFFFF;\n",
              "    }\n",
              "  </style>\n",
              "\n",
              "    <script>\n",
              "      const buttonEl =\n",
              "        document.querySelector('#df-aa4de32e-7c48-460e-aff3-d003180310b0 button.colab-df-convert');\n",
              "      buttonEl.style.display =\n",
              "        google.colab.kernel.accessAllowed ? 'block' : 'none';\n",
              "\n",
              "      async function convertToInteractive(key) {\n",
              "        const element = document.querySelector('#df-aa4de32e-7c48-460e-aff3-d003180310b0');\n",
              "        const dataTable =\n",
              "          await google.colab.kernel.invokeFunction('convertToInteractive',\n",
              "                                                    [key], {});\n",
              "        if (!dataTable) return;\n",
              "\n",
              "        const docLinkHtml = 'Like what you see? Visit the ' +\n",
              "          '<a target=\"_blank\" href=https://colab.research.google.com/notebooks/data_table.ipynb>data table notebook</a>'\n",
              "          + ' to learn more about interactive tables.';\n",
              "        element.innerHTML = '';\n",
              "        dataTable['output_type'] = 'display_data';\n",
              "        await google.colab.output.renderOutput(dataTable, element);\n",
              "        const docLink = document.createElement('div');\n",
              "        docLink.innerHTML = docLinkHtml;\n",
              "        element.appendChild(docLink);\n",
              "      }\n",
              "    </script>\n",
              "  </div>\n",
              "\n",
              "\n",
              "<div id=\"df-99ff316c-1e12-4664-badf-9318182b8033\">\n",
              "  <button class=\"colab-df-quickchart\" onclick=\"quickchart('df-99ff316c-1e12-4664-badf-9318182b8033')\"\n",
              "            title=\"Suggest charts\"\n",
              "            style=\"display:none;\">\n",
              "\n",
              "<svg xmlns=\"http://www.w3.org/2000/svg\" height=\"24px\"viewBox=\"0 0 24 24\"\n",
              "     width=\"24px\">\n",
              "    <g>\n",
              "        <path d=\"M19 3H5c-1.1 0-2 .9-2 2v14c0 1.1.9 2 2 2h14c1.1 0 2-.9 2-2V5c0-1.1-.9-2-2-2zM9 17H7v-7h2v7zm4 0h-2V7h2v10zm4 0h-2v-4h2v4z\"/>\n",
              "    </g>\n",
              "</svg>\n",
              "  </button>\n",
              "\n",
              "<style>\n",
              "  .colab-df-quickchart {\n",
              "      --bg-color: #E8F0FE;\n",
              "      --fill-color: #1967D2;\n",
              "      --hover-bg-color: #E2EBFA;\n",
              "      --hover-fill-color: #174EA6;\n",
              "      --disabled-fill-color: #AAA;\n",
              "      --disabled-bg-color: #DDD;\n",
              "  }\n",
              "\n",
              "  [theme=dark] .colab-df-quickchart {\n",
              "      --bg-color: #3B4455;\n",
              "      --fill-color: #D2E3FC;\n",
              "      --hover-bg-color: #434B5C;\n",
              "      --hover-fill-color: #FFFFFF;\n",
              "      --disabled-bg-color: #3B4455;\n",
              "      --disabled-fill-color: #666;\n",
              "  }\n",
              "\n",
              "  .colab-df-quickchart {\n",
              "    background-color: var(--bg-color);\n",
              "    border: none;\n",
              "    border-radius: 50%;\n",
              "    cursor: pointer;\n",
              "    display: none;\n",
              "    fill: var(--fill-color);\n",
              "    height: 32px;\n",
              "    padding: 0;\n",
              "    width: 32px;\n",
              "  }\n",
              "\n",
              "  .colab-df-quickchart:hover {\n",
              "    background-color: var(--hover-bg-color);\n",
              "    box-shadow: 0 1px 2px rgba(60, 64, 67, 0.3), 0 1px 3px 1px rgba(60, 64, 67, 0.15);\n",
              "    fill: var(--button-hover-fill-color);\n",
              "  }\n",
              "\n",
              "  .colab-df-quickchart-complete:disabled,\n",
              "  .colab-df-quickchart-complete:disabled:hover {\n",
              "    background-color: var(--disabled-bg-color);\n",
              "    fill: var(--disabled-fill-color);\n",
              "    box-shadow: none;\n",
              "  }\n",
              "\n",
              "  .colab-df-spinner {\n",
              "    border: 2px solid var(--fill-color);\n",
              "    border-color: transparent;\n",
              "    border-bottom-color: var(--fill-color);\n",
              "    animation:\n",
              "      spin 1s steps(1) infinite;\n",
              "  }\n",
              "\n",
              "  @keyframes spin {\n",
              "    0% {\n",
              "      border-color: transparent;\n",
              "      border-bottom-color: var(--fill-color);\n",
              "      border-left-color: var(--fill-color);\n",
              "    }\n",
              "    20% {\n",
              "      border-color: transparent;\n",
              "      border-left-color: var(--fill-color);\n",
              "      border-top-color: var(--fill-color);\n",
              "    }\n",
              "    30% {\n",
              "      border-color: transparent;\n",
              "      border-left-color: var(--fill-color);\n",
              "      border-top-color: var(--fill-color);\n",
              "      border-right-color: var(--fill-color);\n",
              "    }\n",
              "    40% {\n",
              "      border-color: transparent;\n",
              "      border-right-color: var(--fill-color);\n",
              "      border-top-color: var(--fill-color);\n",
              "    }\n",
              "    60% {\n",
              "      border-color: transparent;\n",
              "      border-right-color: var(--fill-color);\n",
              "    }\n",
              "    80% {\n",
              "      border-color: transparent;\n",
              "      border-right-color: var(--fill-color);\n",
              "      border-bottom-color: var(--fill-color);\n",
              "    }\n",
              "    90% {\n",
              "      border-color: transparent;\n",
              "      border-bottom-color: var(--fill-color);\n",
              "    }\n",
              "  }\n",
              "</style>\n",
              "\n",
              "  <script>\n",
              "    async function quickchart(key) {\n",
              "      const quickchartButtonEl =\n",
              "        document.querySelector('#' + key + ' button');\n",
              "      quickchartButtonEl.disabled = true;  // To prevent multiple clicks.\n",
              "      quickchartButtonEl.classList.add('colab-df-spinner');\n",
              "      try {\n",
              "        const charts = await google.colab.kernel.invokeFunction(\n",
              "            'suggestCharts', [key], {});\n",
              "      } catch (error) {\n",
              "        console.error('Error during call to suggestCharts:', error);\n",
              "      }\n",
              "      quickchartButtonEl.classList.remove('colab-df-spinner');\n",
              "      quickchartButtonEl.classList.add('colab-df-quickchart-complete');\n",
              "    }\n",
              "    (() => {\n",
              "      let quickchartButtonEl =\n",
              "        document.querySelector('#df-99ff316c-1e12-4664-badf-9318182b8033 button');\n",
              "      quickchartButtonEl.style.display =\n",
              "        google.colab.kernel.accessAllowed ? 'block' : 'none';\n",
              "    })();\n",
              "  </script>\n",
              "</div>\n",
              "\n",
              "    </div>\n",
              "  </div>\n"
            ],
            "application/vnd.google.colaboratory.intrinsic+json": {
              "type": "dataframe",
              "variable_name": "df"
            }
          },
          "metadata": {},
          "execution_count": 4
        }
      ],
      "source": [
        "df.head()"
      ]
    },
    {
      "cell_type": "code",
      "execution_count": null,
      "metadata": {
        "id": "kbXt_2WNtXI2"
      },
      "outputs": [],
      "source": [
        "df.columns=['index','channel1','channel2','channel3','channel4','acc1','acc2','acc3','time_std','timestamp']\n",
        "df.drop(['index'],axis=1,inplace=True)"
      ]
    },
    {
      "cell_type": "code",
      "execution_count": null,
      "metadata": {
        "colab": {
          "base_uri": "https://localhost:8080/",
          "height": 206
        },
        "id": "xu2s6zlutXI3",
        "outputId": "a5cc947a-e71c-434e-c9bb-10ee0ab32f3d"
      },
      "outputs": [
        {
          "output_type": "execute_result",
          "data": {
            "text/plain": [
              "   channel1  channel2  channel3  channel4   acc1   acc2   acc3       time_std  \\\n",
              "0    -76.20      1.38    -34.35    -51.09  0.912  0.112 -0.464   08:54:30.263   \n",
              "1    -36.12     29.01     76.34     48.51  0.912  0.112 -0.464   08:54:30.263   \n",
              "2    -43.59     31.42     58.11     30.55  0.912  0.112 -0.464   08:54:30.263   \n",
              "3    -77.29      2.68    -19.45    -49.45  0.912  0.112 -0.464   08:54:30.274   \n",
              "4    -57.05     17.48     52.08     23.03  0.912  0.112 -0.464   08:54:30.274   \n",
              "\n",
              "      timestamp  \n",
              "0  1.583848e+12  \n",
              "1  1.583848e+12  \n",
              "2  1.583848e+12  \n",
              "3  1.583848e+12  \n",
              "4  1.583848e+12  "
            ],
            "text/html": [
              "\n",
              "  <div id=\"df-1f869d3b-01a8-45c3-9b4d-adb063068706\" class=\"colab-df-container\">\n",
              "    <div>\n",
              "<style scoped>\n",
              "    .dataframe tbody tr th:only-of-type {\n",
              "        vertical-align: middle;\n",
              "    }\n",
              "\n",
              "    .dataframe tbody tr th {\n",
              "        vertical-align: top;\n",
              "    }\n",
              "\n",
              "    .dataframe thead th {\n",
              "        text-align: right;\n",
              "    }\n",
              "</style>\n",
              "<table border=\"1\" class=\"dataframe\">\n",
              "  <thead>\n",
              "    <tr style=\"text-align: right;\">\n",
              "      <th></th>\n",
              "      <th>channel1</th>\n",
              "      <th>channel2</th>\n",
              "      <th>channel3</th>\n",
              "      <th>channel4</th>\n",
              "      <th>acc1</th>\n",
              "      <th>acc2</th>\n",
              "      <th>acc3</th>\n",
              "      <th>time_std</th>\n",
              "      <th>timestamp</th>\n",
              "    </tr>\n",
              "  </thead>\n",
              "  <tbody>\n",
              "    <tr>\n",
              "      <th>0</th>\n",
              "      <td>-76.20</td>\n",
              "      <td>1.38</td>\n",
              "      <td>-34.35</td>\n",
              "      <td>-51.09</td>\n",
              "      <td>0.912</td>\n",
              "      <td>0.112</td>\n",
              "      <td>-0.464</td>\n",
              "      <td>08:54:30.263</td>\n",
              "      <td>1.583848e+12</td>\n",
              "    </tr>\n",
              "    <tr>\n",
              "      <th>1</th>\n",
              "      <td>-36.12</td>\n",
              "      <td>29.01</td>\n",
              "      <td>76.34</td>\n",
              "      <td>48.51</td>\n",
              "      <td>0.912</td>\n",
              "      <td>0.112</td>\n",
              "      <td>-0.464</td>\n",
              "      <td>08:54:30.263</td>\n",
              "      <td>1.583848e+12</td>\n",
              "    </tr>\n",
              "    <tr>\n",
              "      <th>2</th>\n",
              "      <td>-43.59</td>\n",
              "      <td>31.42</td>\n",
              "      <td>58.11</td>\n",
              "      <td>30.55</td>\n",
              "      <td>0.912</td>\n",
              "      <td>0.112</td>\n",
              "      <td>-0.464</td>\n",
              "      <td>08:54:30.263</td>\n",
              "      <td>1.583848e+12</td>\n",
              "    </tr>\n",
              "    <tr>\n",
              "      <th>3</th>\n",
              "      <td>-77.29</td>\n",
              "      <td>2.68</td>\n",
              "      <td>-19.45</td>\n",
              "      <td>-49.45</td>\n",
              "      <td>0.912</td>\n",
              "      <td>0.112</td>\n",
              "      <td>-0.464</td>\n",
              "      <td>08:54:30.274</td>\n",
              "      <td>1.583848e+12</td>\n",
              "    </tr>\n",
              "    <tr>\n",
              "      <th>4</th>\n",
              "      <td>-57.05</td>\n",
              "      <td>17.48</td>\n",
              "      <td>52.08</td>\n",
              "      <td>23.03</td>\n",
              "      <td>0.912</td>\n",
              "      <td>0.112</td>\n",
              "      <td>-0.464</td>\n",
              "      <td>08:54:30.274</td>\n",
              "      <td>1.583848e+12</td>\n",
              "    </tr>\n",
              "  </tbody>\n",
              "</table>\n",
              "</div>\n",
              "    <div class=\"colab-df-buttons\">\n",
              "\n",
              "  <div class=\"colab-df-container\">\n",
              "    <button class=\"colab-df-convert\" onclick=\"convertToInteractive('df-1f869d3b-01a8-45c3-9b4d-adb063068706')\"\n",
              "            title=\"Convert this dataframe to an interactive table.\"\n",
              "            style=\"display:none;\">\n",
              "\n",
              "  <svg xmlns=\"http://www.w3.org/2000/svg\" height=\"24px\" viewBox=\"0 -960 960 960\">\n",
              "    <path d=\"M120-120v-720h720v720H120Zm60-500h600v-160H180v160Zm220 220h160v-160H400v160Zm0 220h160v-160H400v160ZM180-400h160v-160H180v160Zm440 0h160v-160H620v160ZM180-180h160v-160H180v160Zm440 0h160v-160H620v160Z\"/>\n",
              "  </svg>\n",
              "    </button>\n",
              "\n",
              "  <style>\n",
              "    .colab-df-container {\n",
              "      display:flex;\n",
              "      gap: 12px;\n",
              "    }\n",
              "\n",
              "    .colab-df-convert {\n",
              "      background-color: #E8F0FE;\n",
              "      border: none;\n",
              "      border-radius: 50%;\n",
              "      cursor: pointer;\n",
              "      display: none;\n",
              "      fill: #1967D2;\n",
              "      height: 32px;\n",
              "      padding: 0 0 0 0;\n",
              "      width: 32px;\n",
              "    }\n",
              "\n",
              "    .colab-df-convert:hover {\n",
              "      background-color: #E2EBFA;\n",
              "      box-shadow: 0px 1px 2px rgba(60, 64, 67, 0.3), 0px 1px 3px 1px rgba(60, 64, 67, 0.15);\n",
              "      fill: #174EA6;\n",
              "    }\n",
              "\n",
              "    .colab-df-buttons div {\n",
              "      margin-bottom: 4px;\n",
              "    }\n",
              "\n",
              "    [theme=dark] .colab-df-convert {\n",
              "      background-color: #3B4455;\n",
              "      fill: #D2E3FC;\n",
              "    }\n",
              "\n",
              "    [theme=dark] .colab-df-convert:hover {\n",
              "      background-color: #434B5C;\n",
              "      box-shadow: 0px 1px 3px 1px rgba(0, 0, 0, 0.15);\n",
              "      filter: drop-shadow(0px 1px 2px rgba(0, 0, 0, 0.3));\n",
              "      fill: #FFFFFF;\n",
              "    }\n",
              "  </style>\n",
              "\n",
              "    <script>\n",
              "      const buttonEl =\n",
              "        document.querySelector('#df-1f869d3b-01a8-45c3-9b4d-adb063068706 button.colab-df-convert');\n",
              "      buttonEl.style.display =\n",
              "        google.colab.kernel.accessAllowed ? 'block' : 'none';\n",
              "\n",
              "      async function convertToInteractive(key) {\n",
              "        const element = document.querySelector('#df-1f869d3b-01a8-45c3-9b4d-adb063068706');\n",
              "        const dataTable =\n",
              "          await google.colab.kernel.invokeFunction('convertToInteractive',\n",
              "                                                    [key], {});\n",
              "        if (!dataTable) return;\n",
              "\n",
              "        const docLinkHtml = 'Like what you see? Visit the ' +\n",
              "          '<a target=\"_blank\" href=https://colab.research.google.com/notebooks/data_table.ipynb>data table notebook</a>'\n",
              "          + ' to learn more about interactive tables.';\n",
              "        element.innerHTML = '';\n",
              "        dataTable['output_type'] = 'display_data';\n",
              "        await google.colab.output.renderOutput(dataTable, element);\n",
              "        const docLink = document.createElement('div');\n",
              "        docLink.innerHTML = docLinkHtml;\n",
              "        element.appendChild(docLink);\n",
              "      }\n",
              "    </script>\n",
              "  </div>\n",
              "\n",
              "\n",
              "<div id=\"df-61e85e06-6704-41d9-90dc-9f1b4e16e761\">\n",
              "  <button class=\"colab-df-quickchart\" onclick=\"quickchart('df-61e85e06-6704-41d9-90dc-9f1b4e16e761')\"\n",
              "            title=\"Suggest charts\"\n",
              "            style=\"display:none;\">\n",
              "\n",
              "<svg xmlns=\"http://www.w3.org/2000/svg\" height=\"24px\"viewBox=\"0 0 24 24\"\n",
              "     width=\"24px\">\n",
              "    <g>\n",
              "        <path d=\"M19 3H5c-1.1 0-2 .9-2 2v14c0 1.1.9 2 2 2h14c1.1 0 2-.9 2-2V5c0-1.1-.9-2-2-2zM9 17H7v-7h2v7zm4 0h-2V7h2v10zm4 0h-2v-4h2v4z\"/>\n",
              "    </g>\n",
              "</svg>\n",
              "  </button>\n",
              "\n",
              "<style>\n",
              "  .colab-df-quickchart {\n",
              "      --bg-color: #E8F0FE;\n",
              "      --fill-color: #1967D2;\n",
              "      --hover-bg-color: #E2EBFA;\n",
              "      --hover-fill-color: #174EA6;\n",
              "      --disabled-fill-color: #AAA;\n",
              "      --disabled-bg-color: #DDD;\n",
              "  }\n",
              "\n",
              "  [theme=dark] .colab-df-quickchart {\n",
              "      --bg-color: #3B4455;\n",
              "      --fill-color: #D2E3FC;\n",
              "      --hover-bg-color: #434B5C;\n",
              "      --hover-fill-color: #FFFFFF;\n",
              "      --disabled-bg-color: #3B4455;\n",
              "      --disabled-fill-color: #666;\n",
              "  }\n",
              "\n",
              "  .colab-df-quickchart {\n",
              "    background-color: var(--bg-color);\n",
              "    border: none;\n",
              "    border-radius: 50%;\n",
              "    cursor: pointer;\n",
              "    display: none;\n",
              "    fill: var(--fill-color);\n",
              "    height: 32px;\n",
              "    padding: 0;\n",
              "    width: 32px;\n",
              "  }\n",
              "\n",
              "  .colab-df-quickchart:hover {\n",
              "    background-color: var(--hover-bg-color);\n",
              "    box-shadow: 0 1px 2px rgba(60, 64, 67, 0.3), 0 1px 3px 1px rgba(60, 64, 67, 0.15);\n",
              "    fill: var(--button-hover-fill-color);\n",
              "  }\n",
              "\n",
              "  .colab-df-quickchart-complete:disabled,\n",
              "  .colab-df-quickchart-complete:disabled:hover {\n",
              "    background-color: var(--disabled-bg-color);\n",
              "    fill: var(--disabled-fill-color);\n",
              "    box-shadow: none;\n",
              "  }\n",
              "\n",
              "  .colab-df-spinner {\n",
              "    border: 2px solid var(--fill-color);\n",
              "    border-color: transparent;\n",
              "    border-bottom-color: var(--fill-color);\n",
              "    animation:\n",
              "      spin 1s steps(1) infinite;\n",
              "  }\n",
              "\n",
              "  @keyframes spin {\n",
              "    0% {\n",
              "      border-color: transparent;\n",
              "      border-bottom-color: var(--fill-color);\n",
              "      border-left-color: var(--fill-color);\n",
              "    }\n",
              "    20% {\n",
              "      border-color: transparent;\n",
              "      border-left-color: var(--fill-color);\n",
              "      border-top-color: var(--fill-color);\n",
              "    }\n",
              "    30% {\n",
              "      border-color: transparent;\n",
              "      border-left-color: var(--fill-color);\n",
              "      border-top-color: var(--fill-color);\n",
              "      border-right-color: var(--fill-color);\n",
              "    }\n",
              "    40% {\n",
              "      border-color: transparent;\n",
              "      border-right-color: var(--fill-color);\n",
              "      border-top-color: var(--fill-color);\n",
              "    }\n",
              "    60% {\n",
              "      border-color: transparent;\n",
              "      border-right-color: var(--fill-color);\n",
              "    }\n",
              "    80% {\n",
              "      border-color: transparent;\n",
              "      border-right-color: var(--fill-color);\n",
              "      border-bottom-color: var(--fill-color);\n",
              "    }\n",
              "    90% {\n",
              "      border-color: transparent;\n",
              "      border-bottom-color: var(--fill-color);\n",
              "    }\n",
              "  }\n",
              "</style>\n",
              "\n",
              "  <script>\n",
              "    async function quickchart(key) {\n",
              "      const quickchartButtonEl =\n",
              "        document.querySelector('#' + key + ' button');\n",
              "      quickchartButtonEl.disabled = true;  // To prevent multiple clicks.\n",
              "      quickchartButtonEl.classList.add('colab-df-spinner');\n",
              "      try {\n",
              "        const charts = await google.colab.kernel.invokeFunction(\n",
              "            'suggestCharts', [key], {});\n",
              "      } catch (error) {\n",
              "        console.error('Error during call to suggestCharts:', error);\n",
              "      }\n",
              "      quickchartButtonEl.classList.remove('colab-df-spinner');\n",
              "      quickchartButtonEl.classList.add('colab-df-quickchart-complete');\n",
              "    }\n",
              "    (() => {\n",
              "      let quickchartButtonEl =\n",
              "        document.querySelector('#df-61e85e06-6704-41d9-90dc-9f1b4e16e761 button');\n",
              "      quickchartButtonEl.style.display =\n",
              "        google.colab.kernel.accessAllowed ? 'block' : 'none';\n",
              "    })();\n",
              "  </script>\n",
              "</div>\n",
              "\n",
              "    </div>\n",
              "  </div>\n"
            ],
            "application/vnd.google.colaboratory.intrinsic+json": {
              "type": "dataframe",
              "variable_name": "df"
            }
          },
          "metadata": {},
          "execution_count": 6
        }
      ],
      "source": [
        "df.head()"
      ]
    },
    {
      "cell_type": "markdown",
      "metadata": {
        "id": "rbrlPv0-tXI5"
      },
      "source": [
        "# Explanation of the data\n",
        "As you can see the dataframe consists of 8 columns. Each row is a sample. The data was sampled at 200 Hz. That means 200 samples per second. There are four channels on the EEG device, two of these were place on the frontal lobe (forehead) and two on the temporal lobe (sides of the head). The acc1-3 channels are the accelerometer. If the subject moves, these channels will detect that. The time is represented by the final two columns."
      ]
    },
    {
      "cell_type": "markdown",
      "metadata": {
        "id": "P__DExfetXI7"
      },
      "source": [
        "Below, we will plot the entire time course of one channel."
      ]
    },
    {
      "cell_type": "code",
      "execution_count": null,
      "metadata": {
        "colab": {
          "base_uri": "https://localhost:8080/",
          "height": 447
        },
        "id": "yeSpgiJctXI9",
        "outputId": "1342ba84-88a8-4d77-c276-77e611cddff4"
      },
      "outputs": [
        {
          "output_type": "execute_result",
          "data": {
            "text/plain": [
              "[<matplotlib.lines.Line2D at 0x7ade2bb5e0d0>]"
            ]
          },
          "metadata": {},
          "execution_count": 7
        },
        {
          "output_type": "display_data",
          "data": {
            "text/plain": [
              "<Figure size 640x480 with 1 Axes>"
            ],
            "image/png": "[encoded data removed]"
          },
          "metadata": {}
        }
      ],
      "source": [
        "plt.figure()\n",
        "plt.plot(df['channel2'])"
      ]
    },
    {
      "cell_type": "markdown",
      "source": [
        "Question 1. What should the axes be labeled on the plot above?"
      ],
      "metadata": {
        "id": "DzFs8-CWiIFl"
      }
    },
    {
      "cell_type": "markdown",
      "metadata": {
        "id": "Oz0fJ8xCtXI_"
      },
      "source": [
        "# Remove drift\n",
        "The mean of the data changes over time. This is called drift. We can remove this trend in the data using scipy's detrend function."
      ]
    },
    {
      "cell_type": "code",
      "execution_count": null,
      "metadata": {
        "colab": {
          "base_uri": "https://localhost:8080/",
          "height": 447
        },
        "id": "lT0oFcOStXJB",
        "outputId": "6eabe233-638e-4544-8fbb-f1478d3d1264"
      },
      "outputs": [
        {
          "output_type": "execute_result",
          "data": {
            "text/plain": [
              "[<matplotlib.lines.Line2D at 0x7ade28a4c110>]"
            ]
          },
          "metadata": {},
          "execution_count": 8
        },
        {
          "output_type": "display_data",
          "data": {
            "text/plain": [
              "<Figure size 640x480 with 1 Axes>"
            ],
            "image/png": "[encoded data removed]"
          },
          "metadata": {}
        }
      ],
      "source": [
        "plt.plot(df['channel1'])\n",
        "plt.plot(ss.detrend(df['channel1']))"
      ]
    },
    {
      "cell_type": "code",
      "execution_count": null,
      "metadata": {
        "id": "RRBffHTPtXJC"
      },
      "outputs": [],
      "source": [
        "df['channel1'] = ss.detrend(df['channel1'])\n",
        "df['channel2'] = ss.detrend(df['channel2'])\n",
        "df['channel3'] = ss.detrend(df['channel3'])\n",
        "df['channel4'] = ss.detrend(df['channel4'])"
      ]
    },
    {
      "cell_type": "markdown",
      "source": [
        "Question 2. Where does drift come from?"
      ],
      "metadata": {
        "id": "IUfjUiTnh-_u"
      }
    },
    {
      "cell_type": "markdown",
      "metadata": {
        "id": "CxFHk6Y9tXJE"
      },
      "source": [
        "# Artifact removal\n",
        "Whenever the subject moved or blinked, there is a large deviation in the potential of all channels. We need to remove these."
      ]
    },
    {
      "cell_type": "code",
      "execution_count": null,
      "metadata": {
        "id": "h-a0T9--tXJF"
      },
      "outputs": [],
      "source": [
        "zchan1 = (df['channel1']-np.mean(df['channel1']))/np.std(df['channel1'])\n",
        "zchan2 = (df['channel2']-np.mean(df['channel2']))/np.std(df['channel2'])\n",
        "zchan3 = (df['channel3']-np.mean(df['channel3']))/np.std(df['channel3'])\n",
        "zchan4 = (df['channel4']-np.mean(df['channel4']))/np.std(df['channel4'])"
      ]
    },
    {
      "cell_type": "code",
      "execution_count": null,
      "metadata": {
        "colab": {
          "base_uri": "https://localhost:8080/",
          "height": 536
        },
        "id": "NpUb4jJmtXJF",
        "outputId": "c2255ab5-389c-4247-dcee-096411629316"
      },
      "outputs": [
        {
          "output_type": "execute_result",
          "data": {
            "text/plain": [
              "[<matplotlib.lines.Line2D at 0x7ade2897db90>]"
            ]
          },
          "metadata": {},
          "execution_count": 11
        },
        {
          "output_type": "display_data",
          "data": {
            "text/plain": [
              "<Figure size 1800x800 with 1 Axes>"
            ],
            "image/png": "[encoded data removed]"
          },
          "metadata": {}
        }
      ],
      "source": [
        "plt.figure(figsize=(18,8))\n",
        "plt.plot(zchan1)\n",
        "plt.plot(zchan1[np.abs(zchan1)>3],'r.')"
      ]
    },
    {
      "cell_type": "markdown",
      "metadata": {
        "id": "oqBY1mjttXJG"
      },
      "source": [
        "Most of these are artifacts."
      ]
    },
    {
      "cell_type": "markdown",
      "source": [
        "Question 3. What is one source of artifacts?"
      ],
      "metadata": {
        "id": "mUPNGl7fipDD"
      }
    },
    {
      "cell_type": "markdown",
      "metadata": {
        "id": "uvektwMCtXJO"
      },
      "source": [
        "# Make y labels\n",
        "The subject was in two states during the experiment; their eyes were either open or closed. Below, we define the times at which the eyes were open or closed."
      ]
    },
    {
      "cell_type": "code",
      "execution_count": null,
      "metadata": {
        "id": "TuzZwdqxtXJP"
      },
      "outputs": [],
      "source": [
        "df['seconds_from_start']=(df['timestamp']-df['timestamp'].iloc[0])/1000"
      ]
    },
    {
      "cell_type": "code",
      "execution_count": null,
      "metadata": {
        "id": "1umxgUegtXJQ"
      },
      "outputs": [],
      "source": [
        "y_labels = np.zeros((df['time_std'].shape[0],1))"
      ]
    },
    {
      "cell_type": "code",
      "execution_count": null,
      "metadata": {
        "id": "gKwdvSzqtXJT"
      },
      "outputs": [],
      "source": [
        "y_labels[(60<df.seconds_from_start)&(df.seconds_from_start<90)] = 1\n",
        "y_labels[(120<df.seconds_from_start)&(df.seconds_from_start<150)] = 1\n",
        "y_labels[(180<df.seconds_from_start)&(df.seconds_from_start<210)] = 1\n",
        "y_labels[(240<df.seconds_from_start)&(df.seconds_from_start<270)] = 1\n",
        "y_labels[(300<df.seconds_from_start)&(df.seconds_from_start<330)] = 1\n",
        "y_labels[(360<df.seconds_from_start)&(df.seconds_from_start<390)] = 1\n",
        "y_labels[(420<df.seconds_from_start)&(df.seconds_from_start<450)] = 1\n",
        "y_labels[(480<df.seconds_from_start)&(df.seconds_from_start<510)] = 1\n",
        "y_labels[(540<df.seconds_from_start)&(df.seconds_from_start<570)] = 1\n",
        "y_labels[(600<df.seconds_from_start)&(df.seconds_from_start<630)] = 1"
      ]
    },
    {
      "cell_type": "code",
      "execution_count": null,
      "metadata": {
        "id": "rtB_q2qPtXKC",
        "colab": {
          "base_uri": "https://localhost:8080/",
          "height": 447
        },
        "outputId": "09b242b4-2f84-48a1-bc29-e527fc89e461"
      },
      "outputs": [
        {
          "output_type": "execute_result",
          "data": {
            "text/plain": [
              "[<matplotlib.lines.Line2D at 0x7ade287fa790>]"
            ]
          },
          "metadata": {},
          "execution_count": 15
        },
        {
          "output_type": "display_data",
          "data": {
            "text/plain": [
              "<Figure size 640x480 with 1 Axes>"
            ],
            "image/png": "[encoded data removed]"
          },
          "metadata": {}
        }
      ],
      "source": [
        "plt.plot(zchan2)\n",
        "plt.plot(y_labels,'r')"
      ]
    },
    {
      "cell_type": "markdown",
      "metadata": {
        "id": "THGQFnHdtXKG"
      },
      "source": [
        "In the plot above, the trace of a single channel is shown in blue and whether or not the eyes were closed is shown in red. y_labels == 1 means eyes closed and y_labels == 0 means eyes open."
      ]
    },
    {
      "cell_type": "markdown",
      "metadata": {
        "id": "RwiBi7cvtXKH"
      },
      "source": [
        "Remove 60 Hz noise and artifacts. Any time a signal is recorded inside of a building, there will be a prominent 60 Hz noise from the power lines. We will remove this using a notch filter."
      ]
    },
    {
      "cell_type": "markdown",
      "source": [
        "Question 4. What are the 'groundtruth' classifications for this data? Where do they come from?"
      ],
      "metadata": {
        "id": "2CjBuLf0i8Th"
      }
    },
    {
      "cell_type": "code",
      "execution_count": null,
      "metadata": {
        "id": "pNMslpmhtXKI"
      },
      "outputs": [],
      "source": [
        "b, a = ss.iirnotch(60.0, 200.0, 200.)\n",
        "\n",
        "zchan1 = ss.filtfilt(b,a,zchan1)\n",
        "zchan2 = ss.filtfilt(b,a,zchan2)\n",
        "zchan3 = ss.filtfilt(b,a,zchan3)\n",
        "zchan4 = ss.filtfilt(b,a,zchan4)\n",
        "\n",
        "zchan1[np.abs(zchan1)>3] = np.nan\n",
        "zchan2[np.abs(zchan2)>3] = np.nan\n",
        "zchan3[np.abs(zchan3)>3] = np.nan\n",
        "zchan4[np.abs(zchan4)>3] = np.nan\n",
        "y_labels[(np.abs(zchan1)>3) | (np.abs(zchan2)>3) | (np.abs(zchan3)>3) | (np.abs(zchan4)>3)] = np.nan"
      ]
    },
    {
      "cell_type": "code",
      "execution_count": null,
      "metadata": {
        "id": "lxUAPwHktXKJ"
      },
      "outputs": [],
      "source": [
        "df['channel1'] = zchan1\n",
        "df['channel2'] = zchan2\n",
        "df['channel3'] = zchan3\n",
        "df['channel4'] = zchan4\n",
        "df['y_labels'] = y_labels"
      ]
    },
    {
      "cell_type": "markdown",
      "metadata": {
        "id": "jFNygENitXKK"
      },
      "source": [
        "The below graph shows the difference between eyes closed and eyes open in the frequency domain. It is well known that the eyes closed condition generates alpha waves at 8-12 Hz, which we also see in this recording. There may still be some 60 Hz noise that our notch filter failed to remove."
      ]
    },
    {
      "cell_type": "code",
      "execution_count": null,
      "metadata": {
        "id": "KPyvSKKVtXKL",
        "colab": {
          "base_uri": "https://localhost:8080/",
          "height": 544
        },
        "outputId": "7f4d989a-7257-46e4-dc67-7603809dde99"
      },
      "outputs": [
        {
          "output_type": "stream",
          "name": "stderr",
          "text": [
            "<ipython-input-18-4c315fd989c0>:2: MatplotlibDeprecationWarning: Passing the NFFT parameter of psd() positionally is deprecated since Matplotlib 3.9; the parameter will become keyword-only in 3.11.\n",
            "  plt.psd(X[~np.isnan(X)],512,Fs=200,color='r')\n",
            "<ipython-input-18-4c315fd989c0>:4: MatplotlibDeprecationWarning: Passing the NFFT parameter of psd() positionally is deprecated since Matplotlib 3.9; the parameter will become keyword-only in 3.11.\n",
            "  plt.psd(X[~np.isnan(X)],512,Fs=200)\n"
          ]
        },
        {
          "output_type": "display_data",
          "data": {
            "text/plain": [
              "<Figure size 640x480 with 1 Axes>"
            ],
            "image/png": "[encoded data removed]"
          },
          "metadata": {}
        }
      ],
      "source": [
        "X = df['channel2'].iloc[y_labels[:,0]==0]\n",
        "plt.psd(X[~np.isnan(X)],512,Fs=200,color='r')\n",
        "X = df['channel2'].iloc[y_labels[:,0]==1]\n",
        "plt.psd(X[~np.isnan(X)],512,Fs=200)\n",
        "plt.xlim(0,100)\n",
        "#plt.show()\n",
        "plt.show()"
      ]
    },
    {
      "cell_type": "markdown",
      "source": [
        "Question 5. What 'noise' causes the peak at 60 Hz frequency? What about 80 Hz? Will there be peaks at multiples of these frequencies i.e. 120 Hz? What is the name of the structure that neuroscience researchers perform electrophysiology inside to eliminate such noise?"
      ],
      "metadata": {
        "id": "x5rTxGK0jngY"
      }
    },
    {
      "cell_type": "code",
      "execution_count": null,
      "metadata": {
        "id": "Xdb2BsSktXKN",
        "outputId": "69ab1583-f065-4ac9-e4b0-9325a232aa7a",
        "colab": {
          "base_uri": "https://localhost:8080/"
        }
      },
      "outputs": [
        {
          "output_type": "stream",
          "name": "stderr",
          "text": [
            "<ipython-input-19-6fc4e144bfa8>:7: DeprecationWarning: 'scipy.integrate.simps' is deprecated in favour of 'scipy.integrate.simpson' and will be removed in SciPy 1.14.0\n",
            "  total_power1 = simps(a1, dx=0.1)\n",
            "<ipython-input-19-6fc4e144bfa8>:8: DeprecationWarning: 'scipy.integrate.simps' is deprecated in favour of 'scipy.integrate.simpson' and will be removed in SciPy 1.14.0\n",
            "  ap1 = simps(a1[(f1>band[0]) & (f1<band[1])], dx=0.1)\n"
          ]
        }
      ],
      "source": [
        "from scipy.integrate import simps\n",
        "import scipy.stats as sst\n",
        "from matplotlib.mlab import psd\n",
        "\n",
        "def bandpower(trace,band):\n",
        "    [a1,f1]=psd(trace[~np.isnan(trace)],512,Fs=200)\n",
        "    total_power1 = simps(a1, dx=0.1)\n",
        "    ap1 = simps(a1[(f1>band[0]) & (f1<band[1])], dx=0.1)\n",
        "    return ap1/total_power1\n",
        "\n",
        "input_mat = np.zeros((600,21))\n",
        "c=0\n",
        "for i in np.arange(0,120000,200):\n",
        "\n",
        "    X1=df['channel1'];X2=df['channel2'];X3=df['channel3'];X4 = df['channel4']\n",
        "    Y = df['y_labels']\n",
        "\n",
        "    X1=X1[i:i+200];X2=X2[i:i+200];X3=X3[i:i+200];X4=X4[i:i+200]\n",
        "    Y=Y[i:i+200]\n",
        "\n",
        "    input_mat[c,0] = bandpower(X1,[8,12]);input_mat[c,1] = bandpower(X2,[8,12]);\n",
        "    input_mat[c,2] = bandpower(X3,[8,12]);input_mat[c,3] = bandpower(X4,[8,12]);\n",
        "\n",
        "    input_mat[c,4] = bandpower(X1,[3,8]);input_mat[c,5] = bandpower(X2,[3,8]);\n",
        "    input_mat[c,6] = bandpower(X3,[3,8]);input_mat[c,7] = bandpower(X4,[3,8]);\n",
        "\n",
        "    input_mat[c,8] = bandpower(X1,[12,38]);input_mat[c,9] = bandpower(X2,[12,38]);\n",
        "    input_mat[c,10] = bandpower(X3,[12,38]);input_mat[c,11] = bandpower(X4,[12,38]);\n",
        "\n",
        "    input_mat[c,12] = bandpower(X1,[38,100]);input_mat[c,13] = bandpower(X2,[38,100]);\n",
        "    input_mat[c,14] = bandpower(X3,[38,100]);input_mat[c,15] = bandpower(X4,[38,100]);\n",
        "\n",
        "    input_mat[c,16] = bandpower(X1,[0.5,3]);input_mat[c,17] = bandpower(X2,[0.5,3]);\n",
        "    input_mat[c,18] = bandpower(X3,[0.5,3]);input_mat[c,19] = bandpower(X4,[0.5,3]);\n",
        "\n",
        "    [u,n] = np.unique(Y,return_counts=True)\n",
        "    if n.shape[0]==1:\n",
        "        input_mat[c,-1] = u[0].astype(int)\n",
        "    else:\n",
        "        input_mat[c,-1] = np.nan\n",
        "\n",
        "    c+=1\n",
        "\n",
        "feat_eng_df = pd.DataFrame(input_mat, columns = ['alpha_power_1','alpha_power_2','alpha_power_3','alpha_power_4',\n",
        "                                                 'theta_power_1','theta_power_2','theta_power_3','theta_power_4',\n",
        "                                                 'beta_power_1','beta_power_2','beta_power_3','beta_power_4',\n",
        "                                                 'gamma_power_1','gamma_power_2','gamma_power_3','gamma_power_4',\n",
        "                                                 'delta_power_1','delta_power_2','delta_power_3','delta_power_4',\n",
        "                                                 'eyes_closed'])"
      ]
    },
    {
      "cell_type": "code",
      "execution_count": null,
      "metadata": {
        "id": "2QQgOkIDtXKR",
        "colab": {
          "base_uri": "https://localhost:8080/",
          "height": 467
        },
        "outputId": "ab725ca9-3aee-49b0-c0e5-c0398cc44844"
      },
      "outputs": [
        {
          "output_type": "execute_result",
          "data": {
            "text/plain": [
              "<Axes: xlabel='eyes_closed', ylabel='alpha_power_3'>"
            ]
          },
          "metadata": {},
          "execution_count": 20
        },
        {
          "output_type": "display_data",
          "data": {
            "text/plain": [
              "<Figure size 640x480 with 1 Axes>"
            ],
            "image/png": "[encoded data removed]"
          },
          "metadata": {}
        }
      ],
      "source": [
        "import seaborn as sns\n",
        "sns.boxplot(x='eyes_closed',y='alpha_power_3',data=feat_eng_df)"
      ]
    },
    {
      "cell_type": "markdown",
      "metadata": {
        "id": "J8oEGqm1tXKS"
      },
      "source": [
        "# Feature Engineering Model"
      ]
    },
    {
      "cell_type": "code",
      "execution_count": null,
      "metadata": {
        "id": "1l17hfcvtXKX"
      },
      "outputs": [],
      "source": [
        "from sklearn.preprocessing import scale\n",
        "\n",
        "train_df = feat_eng_df.iloc[0:420,:]\n",
        "test_df = feat_eng_df.iloc[420:,:]\n",
        "\n",
        "train_df = train_df.sample(frac=1).reset_index(drop=True)\n",
        "test_df = test_df.sample(frac=1).reset_index(drop=True)\n",
        "\n",
        "X_train = train_df.iloc[:,:-1]\n",
        "y_train = train_df.iloc[:,-1]\n",
        "X_test = test_df.iloc[:,:-1]\n",
        "y_test = test_df.iloc[:,-1]\n",
        "\n",
        "X_train = X_train[~np.isnan(y_train)]\n",
        "y_train = y_train[~np.isnan(y_train)]\n",
        "X_test = X_test[~np.isnan(y_test)]\n",
        "y_test = y_test[~np.isnan(y_test)]\n",
        "\n",
        "\n",
        "X_train = scale(X_train)\n",
        "X_test = scale(X_test)"
      ]
    },
    {
      "cell_type": "code",
      "execution_count": null,
      "metadata": {
        "id": "7ZQjjWMHtXKZ",
        "colab": {
          "base_uri": "https://localhost:8080/"
        },
        "outputId": "c1edb8d6-6447-4383-ab2a-de4aa9ead5d8"
      },
      "outputs": [
        {
          "output_type": "execute_result",
          "data": {
            "text/plain": [
              "((408, 20), (174, 20))"
            ]
          },
          "metadata": {},
          "execution_count": 22
        }
      ],
      "source": [
        "X_train.shape, X_test.shape"
      ]
    },
    {
      "cell_type": "code",
      "execution_count": null,
      "metadata": {
        "id": "D_OjGawGtXLO",
        "colab": {
          "base_uri": "https://localhost:8080/"
        },
        "outputId": "e0eb2718-36d6-461c-a995-1eab2a99cd31"
      },
      "outputs": [
        {
          "output_type": "stream",
          "name": "stdout",
          "text": [
            "[[72 15]\n",
            " [31 56]]\n",
            "[[64 23]\n",
            " [34 53]]\n",
            "[[61 26]\n",
            " [69 18]]\n"
          ]
        }
      ],
      "source": [
        "from sklearn.linear_model import LogisticRegression\n",
        "from sklearn.ensemble import RandomForestClassifier\n",
        "from sklearn.neural_network import MLPClassifier\n",
        "from sklearn.metrics import confusion_matrix\n",
        "\n",
        "#initialize models\n",
        "lr = LogisticRegression(random_state=231)\n",
        "rf = RandomForestClassifier(random_state=2124)\n",
        "mlp = MLPClassifier(hidden_layer_sizes=(5,),early_stopping=True,max_iter=1000,random_state=12)\n",
        "\n",
        "# Train models on the training data and their measured classifications\n",
        "lr.fit(X_train,y_train.values)\n",
        "rf.fit(X_train,y_train.values)\n",
        "mlp.fit(X_train,y_train.values)\n",
        "\n",
        "yhatlr = lr.predict(X_test) # use models to make predictions on the testing data\n",
        "yhatrf = rf.predict(X_test)\n",
        "yhatmlp = mlp.predict(X_test)\n",
        "\n",
        "# compare model-predicted classifications with measured classifications\n",
        "print(confusion_matrix(y_test,yhatlr)) # Linear Regression confusion matrix\n",
        "print(confusion_matrix(y_test,yhatrf)) # Random Forest confusion matrix\n",
        "print(confusion_matrix(y_test,yhatmlp)) # Multi-Layer Perceptron confusion matrix"
      ]
    },
    {
      "cell_type": "markdown",
      "source": [
        "Question 6. Briefly describe the algorithms: Logistic Regression, Random Forest Classifier, and Multi-Layer Perceptron Classifier.\n",
        "\n",
        "Question 7. What is a confusion Matrix? What information do the above numbers convey? How do you estimate accuracy from confusion matrix? Compute the accuracy of the 3 models and compare them."
      ],
      "metadata": {
        "id": "Re6ZB2Tsk7I5"
      }
    },
    {
      "cell_type": "code",
      "source": [
        "\n",
        "conf_matrices = [\n",
        "    np.array([[72, 15], [31, 56]]),\n",
        "    np.array([[64, 23], [34, 53]]),\n",
        "    np.array([[61, 26], [69, 18]]),\n",
        "    np.array([[682, 215],[511, 656]])\n",
        "]\n",
        "\n",
        "# Function to compute accuracy\n",
        "def compute_accuracy(matrix):\n",
        "    TP = matrix[0, 0]\n",
        "    TN = matrix[1, 1]\n",
        "    FP = matrix[0, 1]\n",
        "    FN = matrix[1, 0]\n",
        "    accuracy = (TP + TN) / (TP + TN + FP + FN)\n",
        "    return accuracy\n",
        "\n",
        "# Compute accuracy for each matrix\n",
        "accuracies = [compute_accuracy(matrix) for matrix in conf_matrices]\n",
        "accuracies\n"
      ],
      "metadata": {
        "id": "sHyiO-iW4fcb",
        "outputId": "d92370ae-3e3b-452c-ff73-8e668d4a34df",
        "colab": {
          "base_uri": "https://localhost:8080/"
        }
      },
      "execution_count": null,
      "outputs": [
        {
          "output_type": "execute_result",
          "data": {
            "text/plain": [
              "[0.735632183908046, 0.6724137931034483, 0.4540229885057471, 0.6482558139534884]"
            ]
          },
          "metadata": {},
          "execution_count": 45
        }
      ]
    },
    {
      "cell_type": "markdown",
      "metadata": {
        "id": "eekErTC9tXLR"
      },
      "source": [
        "# Model raw data\n",
        "\n",
        "Below we transform the data into a frame suitable for supervised learning. A window size of 50 represents 0.25 seconds."
      ]
    },
    {
      "cell_type": "code",
      "execution_count": null,
      "metadata": {
        "id": "BP_NaQBAtXLS"
      },
      "outputs": [],
      "source": [
        "df_train = df[df.seconds_from_start<=420]\n",
        "df_test = df[df.seconds_from_start>420]"
      ]
    },
    {
      "cell_type": "code",
      "execution_count": null,
      "metadata": {
        "id": "9EPygaYDtXLT",
        "colab": {
          "base_uri": "https://localhost:8080/",
          "height": 206
        },
        "outputId": "474a028f-6a93-4fba-f0f3-f9cc9a73e783"
      },
      "outputs": [
        {
          "output_type": "execute_result",
          "data": {
            "text/plain": [
              "   channel1  channel2  channel3  channel4   acc1   acc2   acc3       time_std  \\\n",
              "0 -0.219697 -0.774254 -0.099779 -0.503364  0.912  0.112 -0.464   08:54:30.263   \n",
              "1  0.253886 -0.442505  1.015076  0.527823  0.912  0.112 -0.464   08:54:30.263   \n",
              "2  0.111783 -0.453969  0.839341  0.320779  0.912  0.112 -0.464   08:54:30.263   \n",
              "3 -0.232359 -0.767459  0.220389 -0.413223  0.912  0.112 -0.464   08:54:30.274   \n",
              "4 -0.051354 -0.574461  0.868939  0.340731  0.912  0.112 -0.464   08:54:30.274   \n",
              "\n",
              "      timestamp  seconds_from_start  y_labels  \n",
              "0  1.583848e+12               0.000       0.0  \n",
              "1  1.583848e+12               0.000       0.0  \n",
              "2  1.583848e+12               0.000       0.0  \n",
              "3  1.583848e+12               0.011       0.0  \n",
              "4  1.583848e+12               0.011       0.0  "
            ],
            "text/html": [
              "\n",
              "  <div id=\"df-95bd1ab2-0f0f-46d7-b542-f2794d2f4487\" class=\"colab-df-container\">\n",
              "    <div>\n",
              "<style scoped>\n",
              "    .dataframe tbody tr th:only-of-type {\n",
              "        vertical-align: middle;\n",
              "    }\n",
              "\n",
              "    .dataframe tbody tr th {\n",
              "        vertical-align: top;\n",
              "    }\n",
              "\n",
              "    .dataframe thead th {\n",
              "        text-align: right;\n",
              "    }\n",
              "</style>\n",
              "<table border=\"1\" class=\"dataframe\">\n",
              "  <thead>\n",
              "    <tr style=\"text-align: right;\">\n",
              "      <th></th>\n",
              "      <th>channel1</th>\n",
              "      <th>channel2</th>\n",
              "      <th>channel3</th>\n",
              "      <th>channel4</th>\n",
              "      <th>acc1</th>\n",
              "      <th>acc2</th>\n",
              "      <th>acc3</th>\n",
              "      <th>time_std</th>\n",
              "      <th>timestamp</th>\n",
              "      <th>seconds_from_start</th>\n",
              "      <th>y_labels</th>\n",
              "    </tr>\n",
              "  </thead>\n",
              "  <tbody>\n",
              "    <tr>\n",
              "      <th>0</th>\n",
              "      <td>-0.219697</td>\n",
              "      <td>-0.774254</td>\n",
              "      <td>-0.099779</td>\n",
              "      <td>-0.503364</td>\n",
              "      <td>0.912</td>\n",
              "      <td>0.112</td>\n",
              "      <td>-0.464</td>\n",
              "      <td>08:54:30.263</td>\n",
              "      <td>1.583848e+12</td>\n",
              "      <td>0.000</td>\n",
              "      <td>0.0</td>\n",
              "    </tr>\n",
              "    <tr>\n",
              "      <th>1</th>\n",
              "      <td>0.253886</td>\n",
              "      <td>-0.442505</td>\n",
              "      <td>1.015076</td>\n",
              "      <td>0.527823</td>\n",
              "      <td>0.912</td>\n",
              "      <td>0.112</td>\n",
              "      <td>-0.464</td>\n",
              "      <td>08:54:30.263</td>\n",
              "      <td>1.583848e+12</td>\n",
              "      <td>0.000</td>\n",
              "      <td>0.0</td>\n",
              "    </tr>\n",
              "    <tr>\n",
              "      <th>2</th>\n",
              "      <td>0.111783</td>\n",
              "      <td>-0.453969</td>\n",
              "      <td>0.839341</td>\n",
              "      <td>0.320779</td>\n",
              "      <td>0.912</td>\n",
              "      <td>0.112</td>\n",
              "      <td>-0.464</td>\n",
              "      <td>08:54:30.263</td>\n",
              "      <td>1.583848e+12</td>\n",
              "      <td>0.000</td>\n",
              "      <td>0.0</td>\n",
              "    </tr>\n",
              "    <tr>\n",
              "      <th>3</th>\n",
              "      <td>-0.232359</td>\n",
              "      <td>-0.767459</td>\n",
              "      <td>0.220389</td>\n",
              "      <td>-0.413223</td>\n",
              "      <td>0.912</td>\n",
              "      <td>0.112</td>\n",
              "      <td>-0.464</td>\n",
              "      <td>08:54:30.274</td>\n",
              "      <td>1.583848e+12</td>\n",
              "      <td>0.011</td>\n",
              "      <td>0.0</td>\n",
              "    </tr>\n",
              "    <tr>\n",
              "      <th>4</th>\n",
              "      <td>-0.051354</td>\n",
              "      <td>-0.574461</td>\n",
              "      <td>0.868939</td>\n",
              "      <td>0.340731</td>\n",
              "      <td>0.912</td>\n",
              "      <td>0.112</td>\n",
              "      <td>-0.464</td>\n",
              "      <td>08:54:30.274</td>\n",
              "      <td>1.583848e+12</td>\n",
              "      <td>0.011</td>\n",
              "      <td>0.0</td>\n",
              "    </tr>\n",
              "  </tbody>\n",
              "</table>\n",
              "</div>\n",
              "    <div class=\"colab-df-buttons\">\n",
              "\n",
              "  <div class=\"colab-df-container\">\n",
              "    <button class=\"colab-df-convert\" onclick=\"convertToInteractive('df-95bd1ab2-0f0f-46d7-b542-f2794d2f4487')\"\n",
              "            title=\"Convert this dataframe to an interactive table.\"\n",
              "            style=\"display:none;\">\n",
              "\n",
              "  <svg xmlns=\"http://www.w3.org/2000/svg\" height=\"24px\" viewBox=\"0 -960 960 960\">\n",
              "    <path d=\"M120-120v-720h720v720H120Zm60-500h600v-160H180v160Zm220 220h160v-160H400v160Zm0 220h160v-160H400v160ZM180-400h160v-160H180v160Zm440 0h160v-160H620v160ZM180-180h160v-160H180v160Zm440 0h160v-160H620v160Z\"/>\n",
              "  </svg>\n",
              "    </button>\n",
              "\n",
              "  <style>\n",
              "    .colab-df-container {\n",
              "      display:flex;\n",
              "      gap: 12px;\n",
              "    }\n",
              "\n",
              "    .colab-df-convert {\n",
              "      background-color: #E8F0FE;\n",
              "      border: none;\n",
              "      border-radius: 50%;\n",
              "      cursor: pointer;\n",
              "      display: none;\n",
              "      fill: #1967D2;\n",
              "      height: 32px;\n",
              "      padding: 0 0 0 0;\n",
              "      width: 32px;\n",
              "    }\n",
              "\n",
              "    .colab-df-convert:hover {\n",
              "      background-color: #E2EBFA;\n",
              "      box-shadow: 0px 1px 2px rgba(60, 64, 67, 0.3), 0px 1px 3px 1px rgba(60, 64, 67, 0.15);\n",
              "      fill: #174EA6;\n",
              "    }\n",
              "\n",
              "    .colab-df-buttons div {\n",
              "      margin-bottom: 4px;\n",
              "    }\n",
              "\n",
              "    [theme=dark] .colab-df-convert {\n",
              "      background-color: #3B4455;\n",
              "      fill: #D2E3FC;\n",
              "    }\n",
              "\n",
              "    [theme=dark] .colab-df-convert:hover {\n",
              "      background-color: #434B5C;\n",
              "      box-shadow: 0px 1px 3px 1px rgba(0, 0, 0, 0.15);\n",
              "      filter: drop-shadow(0px 1px 2px rgba(0, 0, 0, 0.3));\n",
              "      fill: #FFFFFF;\n",
              "    }\n",
              "  </style>\n",
              "\n",
              "    <script>\n",
              "      const buttonEl =\n",
              "        document.querySelector('#df-95bd1ab2-0f0f-46d7-b542-f2794d2f4487 button.colab-df-convert');\n",
              "      buttonEl.style.display =\n",
              "        google.colab.kernel.accessAllowed ? 'block' : 'none';\n",
              "\n",
              "      async function convertToInteractive(key) {\n",
              "        const element = document.querySelector('#df-95bd1ab2-0f0f-46d7-b542-f2794d2f4487');\n",
              "        const dataTable =\n",
              "          await google.colab.kernel.invokeFunction('convertToInteractive',\n",
              "                                                    [key], {});\n",
              "        if (!dataTable) return;\n",
              "\n",
              "        const docLinkHtml = 'Like what you see? Visit the ' +\n",
              "          '<a target=\"_blank\" href=https://colab.research.google.com/notebooks/data_table.ipynb>data table notebook</a>'\n",
              "          + ' to learn more about interactive tables.';\n",
              "        element.innerHTML = '';\n",
              "        dataTable['output_type'] = 'display_data';\n",
              "        await google.colab.output.renderOutput(dataTable, element);\n",
              "        const docLink = document.createElement('div');\n",
              "        docLink.innerHTML = docLinkHtml;\n",
              "        element.appendChild(docLink);\n",
              "      }\n",
              "    </script>\n",
              "  </div>\n",
              "\n",
              "\n",
              "<div id=\"df-6be2f425-676a-4346-adfc-d94ef6afc5c8\">\n",
              "  <button class=\"colab-df-quickchart\" onclick=\"quickchart('df-6be2f425-676a-4346-adfc-d94ef6afc5c8')\"\n",
              "            title=\"Suggest charts\"\n",
              "            style=\"display:none;\">\n",
              "\n",
              "<svg xmlns=\"http://www.w3.org/2000/svg\" height=\"24px\"viewBox=\"0 0 24 24\"\n",
              "     width=\"24px\">\n",
              "    <g>\n",
              "        <path d=\"M19 3H5c-1.1 0-2 .9-2 2v14c0 1.1.9 2 2 2h14c1.1 0 2-.9 2-2V5c0-1.1-.9-2-2-2zM9 17H7v-7h2v7zm4 0h-2V7h2v10zm4 0h-2v-4h2v4z\"/>\n",
              "    </g>\n",
              "</svg>\n",
              "  </button>\n",
              "\n",
              "<style>\n",
              "  .colab-df-quickchart {\n",
              "      --bg-color: #E8F0FE;\n",
              "      --fill-color: #1967D2;\n",
              "      --hover-bg-color: #E2EBFA;\n",
              "      --hover-fill-color: #174EA6;\n",
              "      --disabled-fill-color: #AAA;\n",
              "      --disabled-bg-color: #DDD;\n",
              "  }\n",
              "\n",
              "  [theme=dark] .colab-df-quickchart {\n",
              "      --bg-color: #3B4455;\n",
              "      --fill-color: #D2E3FC;\n",
              "      --hover-bg-color: #434B5C;\n",
              "      --hover-fill-color: #FFFFFF;\n",
              "      --disabled-bg-color: #3B4455;\n",
              "      --disabled-fill-color: #666;\n",
              "  }\n",
              "\n",
              "  .colab-df-quickchart {\n",
              "    background-color: var(--bg-color);\n",
              "    border: none;\n",
              "    border-radius: 50%;\n",
              "    cursor: pointer;\n",
              "    display: none;\n",
              "    fill: var(--fill-color);\n",
              "    height: 32px;\n",
              "    padding: 0;\n",
              "    width: 32px;\n",
              "  }\n",
              "\n",
              "  .colab-df-quickchart:hover {\n",
              "    background-color: var(--hover-bg-color);\n",
              "    box-shadow: 0 1px 2px rgba(60, 64, 67, 0.3), 0 1px 3px 1px rgba(60, 64, 67, 0.15);\n",
              "    fill: var(--button-hover-fill-color);\n",
              "  }\n",
              "\n",
              "  .colab-df-quickchart-complete:disabled,\n",
              "  .colab-df-quickchart-complete:disabled:hover {\n",
              "    background-color: var(--disabled-bg-color);\n",
              "    fill: var(--disabled-fill-color);\n",
              "    box-shadow: none;\n",
              "  }\n",
              "\n",
              "  .colab-df-spinner {\n",
              "    border: 2px solid var(--fill-color);\n",
              "    border-color: transparent;\n",
              "    border-bottom-color: var(--fill-color);\n",
              "    animation:\n",
              "      spin 1s steps(1) infinite;\n",
              "  }\n",
              "\n",
              "  @keyframes spin {\n",
              "    0% {\n",
              "      border-color: transparent;\n",
              "      border-bottom-color: var(--fill-color);\n",
              "      border-left-color: var(--fill-color);\n",
              "    }\n",
              "    20% {\n",
              "      border-color: transparent;\n",
              "      border-left-color: var(--fill-color);\n",
              "      border-top-color: var(--fill-color);\n",
              "    }\n",
              "    30% {\n",
              "      border-color: transparent;\n",
              "      border-left-color: var(--fill-color);\n",
              "      border-top-color: var(--fill-color);\n",
              "      border-right-color: var(--fill-color);\n",
              "    }\n",
              "    40% {\n",
              "      border-color: transparent;\n",
              "      border-right-color: var(--fill-color);\n",
              "      border-top-color: var(--fill-color);\n",
              "    }\n",
              "    60% {\n",
              "      border-color: transparent;\n",
              "      border-right-color: var(--fill-color);\n",
              "    }\n",
              "    80% {\n",
              "      border-color: transparent;\n",
              "      border-right-color: var(--fill-color);\n",
              "      border-bottom-color: var(--fill-color);\n",
              "    }\n",
              "    90% {\n",
              "      border-color: transparent;\n",
              "      border-bottom-color: var(--fill-color);\n",
              "    }\n",
              "  }\n",
              "</style>\n",
              "\n",
              "  <script>\n",
              "    async function quickchart(key) {\n",
              "      const quickchartButtonEl =\n",
              "        document.querySelector('#' + key + ' button');\n",
              "      quickchartButtonEl.disabled = true;  // To prevent multiple clicks.\n",
              "      quickchartButtonEl.classList.add('colab-df-spinner');\n",
              "      try {\n",
              "        const charts = await google.colab.kernel.invokeFunction(\n",
              "            'suggestCharts', [key], {});\n",
              "      } catch (error) {\n",
              "        console.error('Error during call to suggestCharts:', error);\n",
              "      }\n",
              "      quickchartButtonEl.classList.remove('colab-df-spinner');\n",
              "      quickchartButtonEl.classList.add('colab-df-quickchart-complete');\n",
              "    }\n",
              "    (() => {\n",
              "      let quickchartButtonEl =\n",
              "        document.querySelector('#df-6be2f425-676a-4346-adfc-d94ef6afc5c8 button');\n",
              "      quickchartButtonEl.style.display =\n",
              "        google.colab.kernel.accessAllowed ? 'block' : 'none';\n",
              "    })();\n",
              "  </script>\n",
              "</div>\n",
              "\n",
              "    </div>\n",
              "  </div>\n"
            ],
            "application/vnd.google.colaboratory.intrinsic+json": {
              "type": "dataframe",
              "variable_name": "df_train",
              "summary": "{\n  \"name\": \"df_train\",\n  \"rows\": 83986,\n  \"fields\": [\n    {\n      \"column\": \"channel1\",\n      \"properties\": {\n        \"dtype\": \"number\",\n        \"std\": 0.3144366616088016,\n        \"min\": -2.7132322963012445,\n        \"max\": 2.2484325743591027,\n        \"num_unique_values\": 83172,\n        \"samples\": [\n          -0.1692548704863606,\n          0.21226678701124543,\n          0.37235127824578773\n        ],\n        \"semantic_type\": \"\",\n        \"description\": \"\"\n      }\n    },\n    {\n      \"column\": \"channel2\",\n      \"properties\": {\n        \"dtype\": \"number\",\n        \"std\": 0.24045098120117872,\n        \"min\": -2.7845232915300953,\n        \"max\": 2.983012812868305,\n        \"num_unique_values\": 82841,\n        \"samples\": [\n          0.9699211961696137,\n          0.04937640710675038,\n          -0.027739217705152343\n        ],\n        \"semantic_type\": \"\",\n        \"description\": \"\"\n      }\n    },\n    {\n      \"column\": \"channel3\",\n      \"properties\": {\n        \"dtype\": \"number\",\n        \"std\": 0.28687680075133537,\n        \"min\": -2.9891867244838046,\n        \"max\": 2.999523634111676,\n        \"num_unique_values\": 82673,\n        \"samples\": [\n          0.2609027856896876,\n          0.13323080106718904,\n          0.2838288900856775\n        ],\n        \"semantic_type\": \"\",\n        \"description\": \"\"\n      }\n    },\n    {\n      \"column\": \"channel4\",\n      \"properties\": {\n        \"dtype\": \"number\",\n        \"std\": 0.26108602810240267,\n        \"min\": -2.9914705187851696,\n        \"max\": 2.961735134566026,\n        \"num_unique_values\": 83134,\n        \"samples\": [\n          -0.1191097114488173,\n          0.00487887565748589,\n          -0.33064619785263294\n        ],\n        \"semantic_type\": \"\",\n        \"description\": \"\"\n      }\n    },\n    {\n      \"column\": \"acc1\",\n      \"properties\": {\n        \"dtype\": \"number\",\n        \"std\": 0.025173807865334553,\n        \"min\": 0.912,\n        \"max\": 1.008,\n        \"num_unique_values\": 7,\n        \"samples\": [\n          0.912,\n          0.944,\n          0.992\n        ],\n        \"semantic_type\": \"\",\n        \"description\": \"\"\n      }\n    },\n    {\n      \"column\": \"acc2\",\n      \"properties\": {\n        \"dtype\": \"number\",\n        \"std\": 0.010130648913785388,\n        \"min\": 0.08,\n        \"max\": 0.128,\n        \"num_unique_values\": 4,\n        \"samples\": [\n          0.128,\n          0.08,\n          0.112\n        ],\n        \"semantic_type\": \"\",\n        \"description\": \"\"\n      }\n    },\n    {\n      \"column\": \"acc3\",\n      \"properties\": {\n        \"dtype\": \"number\",\n        \"std\": 0.06328460374933807,\n        \"min\": -0.464,\n        \"max\": 0.768,\n        \"num_unique_values\": 18,\n        \"samples\": [\n          -0.464,\n          -0.416,\n          -0.336\n        ],\n        \"semantic_type\": \"\",\n        \"description\": \"\"\n      }\n    },\n    {\n      \"column\": \"time_std\",\n      \"properties\": {\n        \"dtype\": \"category\",\n        \"num_unique_values\": 40441,\n        \"samples\": [\n          \" 09:00:59.730\",\n          \" 08:57:35.911\",\n          \" 08:57:20.041\"\n        ],\n        \"semantic_type\": \"\",\n        \"description\": \"\"\n      }\n    },\n    {\n      \"column\": \"timestamp\",\n      \"properties\": {\n        \"dtype\": \"number\",\n        \"std\": 121243.35390380537,\n        \"min\": 1583848470263.0,\n        \"max\": 1583848890240.0,\n        \"num_unique_values\": 40441,\n        \"samples\": [\n          1583848859730.0,\n          1583848655911.0,\n          1583848640041.0\n        ],\n        \"semantic_type\": \"\",\n        \"description\": \"\"\n      }\n    },\n    {\n      \"column\": \"seconds_from_start\",\n      \"properties\": {\n        \"dtype\": \"number\",\n        \"std\": 121.24335390380483,\n        \"min\": 0.0,\n        \"max\": 419.977,\n        \"num_unique_values\": 40441,\n        \"samples\": [\n          389.467,\n          185.648,\n          169.778\n        ],\n        \"semantic_type\": \"\",\n        \"description\": \"\"\n      }\n    },\n    {\n      \"column\": \"y_labels\",\n      \"properties\": {\n        \"dtype\": \"number\",\n        \"std\": 0.49488319483686494,\n        \"min\": 0.0,\n        \"max\": 1.0,\n        \"num_unique_values\": 2,\n        \"samples\": [\n          1.0,\n          0.0\n        ],\n        \"semantic_type\": \"\",\n        \"description\": \"\"\n      }\n    }\n  ]\n}"
            }
          },
          "metadata": {},
          "execution_count": 25
        }
      ],
      "source": [
        "df_train.head()"
      ]
    },
    {
      "cell_type": "code",
      "execution_count": null,
      "metadata": {
        "id": "BcS6wrCXtXLV",
        "colab": {
          "base_uri": "https://localhost:8080/",
          "height": 185,
          "referenced_widgets": [
            "a5ddcdff26884e76903e6f88a1bc464d",
            "c71b64b4ef4644308bc7fb3ec094b153",
            "e6d550f97c8a4c0cbd32bdc56529f21e",
            "84b26e9cbe304a7c98b9d8fa6e8f60f0",
            "99230b78be404dbabe738b147f6d5eb8",
            "63ffbac0b0374c539daf50c82c1fd459",
            "1b12030be6664ff2824ed23905f03f3d",
            "d2b728b78e5f41e594d3d6b9d7991234",
            "857cef79e4f74270bdcd1cb220ab44b8",
            "dcd474d8f5f24e2f9c882322a64e1ac9",
            "0485979b90d44904acee7a0febb42049",
            "9432205fd499408f81c277c8617e2c08",
            "80d9857a75834e02beff77d1513ba843",
            "22009f4bf9ac4797b9702ef60ca6832b",
            "f964fc30791c44a6b7f31d4c3073b37f",
            "d9dd91b761624e76a9c7e5566b7356ee",
            "2f99e12ae5444e6aa2a116de4c00eb4c",
            "bb838b1461ab45e990ccb041b75d4bd2",
            "2be383c7695943778673ded1fd80e01a",
            "d0a07082fe184728803e7a25095cc167",
            "6b01b6b05abe4365a39df172aafdf43c",
            "c5e16aec845c43c7b4fb45211797a146"
          ]
        },
        "outputId": "6a18ae71-b0f6-4f15-bc1e-5e2f28d9ab29"
      },
      "outputs": [
        {
          "output_type": "stream",
          "name": "stderr",
          "text": [
            "<ipython-input-26-fe3449376fee>:8: TqdmDeprecationWarning: This function will be removed in tqdm==5.0.0\n",
            "Please use `tqdm.notebook.tqdm` instead of `tqdm.tqdm_notebook`\n",
            "  for i in tqdm_notebook(np.arange(0,df_train.shape[0]-window_size,stride)):\n"
          ]
        },
        {
          "output_type": "display_data",
          "data": {
            "text/plain": [
              "  0%|          | 0/4197 [00:00<?, ?it/s]"
            ],
            "application/vnd.jupyter.widget-view+json": {
              "version_major": 2,
              "version_minor": 0,
              "model_id": "a5ddcdff26884e76903e6f88a1bc464d"
            }
          },
          "metadata": {}
        },
        {
          "output_type": "stream",
          "name": "stderr",
          "text": [
            "<ipython-input-26-fe3449376fee>:26: TqdmDeprecationWarning: This function will be removed in tqdm==5.0.0\n",
            "Please use `tqdm.notebook.tqdm` instead of `tqdm.tqdm_notebook`\n",
            "  for i in tqdm_notebook(np.arange(0,df_test.shape[0]-window_size,stride)):\n"
          ]
        },
        {
          "output_type": "display_data",
          "data": {
            "text/plain": [
              "  0%|          | 0/2109 [00:00<?, ?it/s]"
            ],
            "application/vnd.jupyter.widget-view+json": {
              "version_major": 2,
              "version_minor": 0,
              "model_id": "9432205fd499408f81c277c8617e2c08"
            }
          },
          "metadata": {}
        }
      ],
      "source": [
        "from tqdm import tqdm_notebook\n",
        "\n",
        "window_size = 50\n",
        "stride=20\n",
        "\n",
        "df_class_train = np.zeros((int(df_train.shape[0]/stride),window_size+1,4))\n",
        "c=0\n",
        "for i in tqdm_notebook(np.arange(0,df_train.shape[0]-window_size,stride)):\n",
        "    df_class_train[c,0:window_size,0] = df_train['channel1'].iloc[i:i+window_size]\n",
        "    df_class_train[c,0:window_size,1] = df_train['channel2'].iloc[i:i+window_size]\n",
        "    df_class_train[c,0:window_size,2] = df_train['channel3'].iloc[i:i+window_size]\n",
        "    df_class_train[c,0:window_size,3] = df_train['channel4'].iloc[i:i+window_size]\n",
        "\n",
        "    ylabs = df_train['y_labels'].iloc[i:i+window_size]\n",
        "    ones=ylabs[ylabs==1]\n",
        "    zeros=ylabs[ylabs==0]\n",
        "\n",
        "    if ones.shape[0]>zeros.shape[0]:\n",
        "        df_class_train[c,-1,:] = 1\n",
        "    else:\n",
        "        df_class_train[c,-1,:] = 0\n",
        "    c+=1\n",
        "\n",
        "df_class_test = np.zeros((int(df_test.shape[0]/stride),window_size+1,4))\n",
        "c=0\n",
        "for i in tqdm_notebook(np.arange(0,df_test.shape[0]-window_size,stride)):\n",
        "    df_class_test[c,0:window_size,0] = df_test['channel1'].iloc[i:i+window_size]\n",
        "    df_class_test[c,0:window_size,1] = df_test['channel2'].iloc[i:i+window_size]\n",
        "    df_class_test[c,0:window_size,2] = df_test['channel3'].iloc[i:i+window_size]\n",
        "    df_class_test[c,0:window_size,3] = df_test['channel4'].iloc[i:i+window_size]\n",
        "\n",
        "    ylabs = df_test['y_labels'].iloc[i:i+window_size]\n",
        "    ones=ylabs[ylabs==1]\n",
        "    zeros=ylabs[ylabs==0]\n",
        "\n",
        "    if ones.shape[0]>zeros.shape[0]:\n",
        "        df_class_test[c,-1,:] = 1\n",
        "    else:\n",
        "        df_class_test[c,-1,:] = 0\n",
        "    c+=1\n"
      ]
    },
    {
      "cell_type": "markdown",
      "metadata": {
        "id": "MH0V5rmZtXLX"
      },
      "source": [
        "Remove NaN rows"
      ]
    },
    {
      "cell_type": "code",
      "execution_count": null,
      "metadata": {
        "id": "QDXjbw7ztXLX"
      },
      "outputs": [],
      "source": [
        "df_class_train = df_class_train[~np.isnan(df_class_train[:,:-1,0]).any(axis=1),:,:]\n",
        "df_class_train = df_class_train[~np.isnan(df_class_train[:,:-1,1]).any(axis=1),:,:]\n",
        "df_class_train = df_class_train[~np.isnan(df_class_train[:,:-1,2]).any(axis=1),:,:]\n",
        "df_class_train = df_class_train[~np.isnan(df_class_train[:,:-1,3]).any(axis=1),:,:]\n",
        "\n",
        "df_class_test = df_class_test[~np.isnan(df_class_test[:,:-1,0]).any(axis=1),:,:]\n",
        "df_class_test = df_class_test[~np.isnan(df_class_test[:,:-1,1]).any(axis=1),:,:]\n",
        "df_class_test = df_class_test[~np.isnan(df_class_test[:,:-1,2]).any(axis=1),:,:]\n",
        "df_class_test = df_class_test[~np.isnan(df_class_test[:,:-1,3]).any(axis=1),:,:]"
      ]
    },
    {
      "cell_type": "code",
      "execution_count": null,
      "metadata": {
        "id": "yf6EbISBtXLY",
        "colab": {
          "base_uri": "https://localhost:8080/"
        },
        "outputId": "6c339d56-4156-49fa-a05e-0b3e4957163e"
      },
      "outputs": [
        {
          "output_type": "execute_result",
          "data": {
            "text/plain": [
              "((4061, 51, 4), (2064, 51, 4))"
            ]
          },
          "metadata": {},
          "execution_count": 28
        }
      ],
      "source": [
        "df_class_train.shape,df_class_test.shape"
      ]
    },
    {
      "cell_type": "markdown",
      "metadata": {
        "id": "p1kpY8b2tXLZ"
      },
      "source": [
        "# Feature engineering\n",
        "\n",
        "Here I manually engineer some features and try some basic models on that transformed data."
      ]
    },
    {
      "cell_type": "code",
      "execution_count": null,
      "metadata": {
        "id": "g0I0uGlctXLa",
        "colab": {
          "base_uri": "https://localhost:8080/"
        },
        "outputId": "e9de08ac-b685-47a5-e0ed-c75263742c7f"
      },
      "outputs": [
        {
          "output_type": "execute_result",
          "data": {
            "text/plain": [
              "(4061, 51, 4)"
            ]
          },
          "metadata": {},
          "execution_count": 29
        }
      ],
      "source": [
        "df_class_train.shape"
      ]
    },
    {
      "cell_type": "code",
      "execution_count": null,
      "metadata": {
        "id": "gF1kKXdCtXLb"
      },
      "outputs": [],
      "source": [
        "import scipy\n",
        "################ TRAIN #######################\n",
        "X=np.mean(df_class_train[:,:-1,:],axis=1)\n",
        "Y=np.var(df_class_train[:,:-1,:],axis=1)\n",
        "Z=scipy.stats.skew(df_class_train[:,:-1,:],axis=1)\n",
        "W=scipy.stats.kurtosis(df_class_train[:,:-1,:],axis=1)\n",
        "\n",
        "ds = np.concatenate((X,Y,Z,W,df_class_train[:,-1,0:1]),axis=1)\n",
        "np.random.shuffle(ds)\n",
        "\n",
        "df_feats_train = pd.DataFrame(ds,columns=['meanch1','meanch2','meanch3','meanch4',\\\n",
        "                                    'varch1','varch2','varch3','varch4',\\\n",
        "                                    'skewch1','skewch2','skewch3','skewch4',\\\n",
        "                                    'kurtch1','kurtch2','kurtch3','kurtch4','output'])\n",
        "################ TEST #######################\n",
        "X=np.mean(df_class_test[:,:-1,:],axis=1)\n",
        "Y=np.var(df_class_test[:,:-1,:],axis=1)\n",
        "Z=scipy.stats.skew(df_class_test[:,:-1,:],axis=1)\n",
        "W=scipy.stats.kurtosis(df_class_test[:,:-1,:],axis=1)\n",
        "\n",
        "ds = np.concatenate((X,Y,Z,W,df_class_test[:,-1,0:1]),axis=1)\n",
        "np.random.shuffle(ds)\n",
        "\n",
        "df_feats_test = pd.DataFrame(ds,columns=['meanch1','meanch2','meanch3','meanch4',\\\n",
        "                                    'varch1','varch2','varch3','varch4',\\\n",
        "                                    'skewch1','skewch2','skewch3','skewch4',\\\n",
        "                                    'kurtch1','kurtch2','kurtch3','kurtch4','output'])"
      ]
    },
    {
      "cell_type": "markdown",
      "source": [
        "Question 8. What are the features that were manually engineered? Describe them briefly. (hint: X,Y, Z, W)? In your own words, describe feature engineering."
      ],
      "metadata": {
        "id": "BLN4kvtvl1hJ"
      }
    },
    {
      "cell_type": "code",
      "execution_count": null,
      "metadata": {
        "id": "cbgfCauDtXLc",
        "colab": {
          "base_uri": "https://localhost:8080/"
        },
        "outputId": "1503881d-44b7-451b-8d91-b365d93fd386"
      },
      "outputs": [
        {
          "output_type": "stream",
          "name": "stdout",
          "text": [
            "[[656 240]\n",
            " [598 569]]\n",
            "[[625 271]\n",
            " [546 621]]\n"
          ]
        }
      ],
      "source": [
        "from sklearn.ensemble import RandomForestClassifier\n",
        "from sklearn.linear_model import LogisticRegression\n",
        "from sklearn.model_selection import train_test_split\n",
        "from sklearn.metrics import confusion_matrix\n",
        "from sklearn.decomposition import PCA\n",
        "\n",
        "rf = RandomForestClassifier()\n",
        "lr = LogisticRegression()\n",
        "pca = PCA()\n",
        "\n",
        "  # get training Data\n",
        "X_train = df_feats_train.loc[:, df_feats_train.columns != 'output']\n",
        "y_train = df_feats_train.loc[:, df_feats_train.columns == 'output']\n",
        "# Remove NaNs while maintaining consistent number of samples of both x and y\n",
        "df_merged = pd.merge(X_train, y_train, left_index=True, right_index=True) # Merge X_train and y_train into a single DataFrame\n",
        "df_merged.dropna(inplace=True) # Delete any rows that contain NaNs\n",
        "# Separate X_train and y_train again\n",
        "X_train = df_merged.loc[:, df_merged.columns != 'output']\n",
        "y_train = df_merged.loc[:, df_merged.columns == 'output']\n",
        "\n",
        "y_train = y_train.values.ravel()\n",
        "  # get testing data\n",
        "X_test = df_feats_test.loc[:, df_feats_test.columns != 'output']\n",
        "y_test = df_feats_test.loc[:, df_feats_test.columns == 'output']\n",
        "# Remove NaNs while maintaining consistent number of samples of both x and y\n",
        "df_merged = pd.merge(X_test, y_test, left_index=True, right_index=True) # Merge X_train and y_train into a single DataFrame\n",
        "df_merged.dropna(inplace=True) # Delete any rows that contain NaNs\n",
        "# Separate X_train and y_train again\n",
        "X_test = df_merged.loc[:, df_merged.columns != 'output']\n",
        "y_test = df_merged.loc[:, df_merged.columns == 'output']\n",
        "\n",
        "#X_train, X_test, y_train, y_test = train_test_split(X, Y, test_size=0.33, random_state=212) # older method\n",
        "rf.fit(X_train,y_train)\n",
        "lr.fit(X_train,y_train)\n",
        "pca.fit(X_train,y_train)\n",
        "\n",
        "yhat_rf = rf.predict(X_test)\n",
        "yhat_lr = lr.predict(X_test)\n",
        "\n",
        "\n",
        "print(confusion_matrix(y_test,yhat_rf))\n",
        "print(confusion_matrix(y_test,yhat_lr))"
      ]
    },
    {
      "cell_type": "markdown",
      "source": [
        "Question 10. What is Principal Component Analysis (PCA)? What does it tell us about our chosen features?"
      ],
      "metadata": {
        "id": "EWs-vAmjmXHN"
      }
    },
    {
      "cell_type": "code",
      "execution_count": null,
      "metadata": {
        "id": "32OYrVbrtXLd",
        "colab": {
          "base_uri": "https://localhost:8080/",
          "height": 1000
        },
        "outputId": "0ff53672-99ef-445b-c2d6-ff92cb67e773"
      },
      "outputs": [
        {
          "output_type": "display_data",
          "data": {
            "text/plain": [
              "<Figure size 1000x1500 with 1 Axes>"
            ],
            "image/png": "[encoded data removed]"
          },
          "metadata": {}
        }
      ],
      "source": [
        "plt.figure(figsize=(10,15))\n",
        "y_pos = np.arange(len(X_train.columns))\n",
        "plt.barh(y_pos, rf.feature_importances_)\n",
        "\n",
        "# Create names on the y-axis\n",
        "plt.yticks(y_pos, X_train.columns)\n",
        "plt.show()"
      ]
    },
    {
      "cell_type": "code",
      "execution_count": null,
      "metadata": {
        "id": "GrmgtYattXLe",
        "colab": {
          "base_uri": "https://localhost:8080/",
          "height": 285
        },
        "outputId": "fa746e36-22c7-43c5-de9c-79e4ffb45d16"
      },
      "outputs": [
        {
          "output_type": "execute_result",
          "data": {
            "text/plain": [
              "<seaborn.axisgrid.PairGrid at 0x7ade283de410>"
            ]
          },
          "metadata": {},
          "execution_count": 33
        },
        {
          "output_type": "display_data",
          "data": {
            "text/plain": [
              "<Figure size 306.986x250 with 2 Axes>"
            ],
            "image/png": "[encoded data removed]"
          },
          "metadata": {}
        }
      ],
      "source": [
        "import seaborn as sns\n",
        "sns.pairplot(pd.concat((X_train[['meanch4']],y_train),axis=1),hue='output')"
      ]
    },
    {
      "cell_type": "code",
      "execution_count": null,
      "metadata": {
        "id": "gYD_afJwtXLf",
        "colab": {
          "base_uri": "https://localhost:8080/",
          "height": 449
        },
        "outputId": "0b9e5adc-b0c3-4447-d53f-411f7366f91c"
      },
      "outputs": [
        {
          "output_type": "display_data",
          "data": {
            "text/plain": [
              "<Figure size 640x480 with 1 Axes>"
            ],
            "image/png": "[encoded data removed]"
          },
          "metadata": {}
        }
      ],
      "source": [
        "sns.scatterplot(x='meanch4',y='varch2',hue='output',data=pd.concat((X_train,y_train),axis=1))\n",
        "plt.show()"
      ]
    },
    {
      "cell_type": "markdown",
      "source": [
        "Question 11. Based on the plot above, could the variance of channel2 be a good predictor? Why or why not? Could the mean of ch 4 be a good predictor? Why or why not?"
      ],
      "metadata": {
        "id": "0JrC29SBm7U-"
      }
    },
    {
      "cell_type": "code",
      "execution_count": null,
      "metadata": {
        "id": "OFDgDMgQtXLf"
      },
      "outputs": [],
      "source": [
        "def focal_loss(gamma=4, alpha=0.15):\n",
        "\n",
        "    gamma = float(gamma)\n",
        "    alpha = float(alpha)\n",
        "\n",
        "    def focal_loss_fixed(y_true, y_pred):\n",
        "        \"\"\"Focal loss for multi-classification\n",
        "        FL(p_t)=-alpha(1-p_t)^{gamma}ln(p_t)\n",
        "        Notice: y_pred is probability after softmax\n",
        "        gradient is d(Fl)/d(p_t) not d(Fl)/d(x) as described in paper\n",
        "        d(Fl)/d(p_t) * [p_t(1-p_t)] = d(Fl)/d(x)\n",
        "        Focal Loss for Dense Object Detection\n",
        "        https://arxiv.org/abs/1708.02002\n",
        "\n",
        "        Arguments:\n",
        "            y_true {tensor} -- ground truth labels, shape of [batch_size, num_cls]\n",
        "            y_pred {tensor} -- model's output, shape of [batch_size, num_cls]\n",
        "\n",
        "        Keyword Arguments:\n",
        "            gamma {float} -- (default: {2.0})\n",
        "            alpha {float} -- (default: {4.0})\n",
        "\n",
        "        Returns:\n",
        "            [tensor] -- loss.\n",
        "        \"\"\"\n",
        "        epsilon = 1.e-9\n",
        "        y_true = tf.convert_to_tensor(y_true, tf.float32)\n",
        "        y_pred = tf.convert_to_tensor(y_pred, tf.float32)\n",
        "\n",
        "        model_out = tf.add(y_pred, epsilon)\n",
        "        ce = tf.multiply(y_true, -tf.math.log(model_out))\n",
        "        weight = tf.multiply(y_true, tf.pow(tf.subtract(1., model_out), gamma))\n",
        "        fl = tf.multiply(alpha, tf.multiply(weight, ce))\n",
        "        reduced_fl = tf.reduce_max(fl, axis=1)\n",
        "        return tf.reduce_mean(reduced_fl)\n",
        "    return focal_loss_fixed\n",
        "\n",
        "# load the dataset, returns train and test X and y elements\n",
        "def load_dataset(dftrain,dftest):\n",
        "    trainX = dftrain[:,:-1,:]\n",
        "    trainy = dftrain[:,-1,0:1]\n",
        "\n",
        "    testX = dftest[:,:-1,:]\n",
        "    testy = dftest[:,-1,0:1]\n",
        "\n",
        "    shuff_idx = np.random.choice(np.arange(0,trainX.shape[0]),trainX.shape[0],replace=False)\n",
        "    trainX = trainX[shuff_idx,:,:]\n",
        "    trainy = trainy[shuff_idx]\n",
        "\n",
        "    shuff_idx = np.random.choice(np.arange(0,testX.shape[0]),testX.shape[0],replace=False)\n",
        "    testX = testX[shuff_idx,:,:]\n",
        "    testy = testy[shuff_idx]\n",
        "\n",
        "    trainy = to_categorical(trainy)\n",
        "    testy = to_categorical(testy)\n",
        "    print(trainX.shape, trainy.shape, testX.shape, testy.shape)\n",
        "    return trainX, trainy, testX, testy\n",
        "\n",
        "# fit and evaluate a model\n",
        "def evaluate_model(trainX, trainy, testX, testy):\n",
        "    verbose, epochs, batch_size = 1, 200, 32\n",
        "    n_timesteps, n_features, n_outputs = trainX.shape[1], trainX.shape[2], trainy.shape[1]\n",
        "    model = Sequential()\n",
        "    model.add(Conv1D(filters=64, kernel_size=3, activation='relu', input_shape=(n_timesteps,n_features)))\n",
        "    model.add(Conv1D(filters=64, kernel_size=3, activation='relu'))\n",
        "    model.add(Dropout(0.5))\n",
        "    model.add(MaxPooling1D(pool_size=2))\n",
        "    model.add(Flatten())\n",
        "    model.add(Dense(100, activation='relu'))\n",
        "    model.add(Dense(n_outputs, activation='softmax'))\n",
        "    model.compile(loss='binary_crossentropy', optimizer='adam', metrics=['accuracy'])\n",
        "    er = EarlyStopping(patience=10, min_delta=1e-4, monitor='val_accuracy')\n",
        "    # fit network\n",
        "    model.fit(trainX, trainy, epochs=epochs, batch_size=batch_size, verbose=verbose,\n",
        "              validation_split=0.15, callbacks=[er])\n",
        "    return model\n",
        "\n",
        "# fit and evaluate a model\n",
        "def evaluate_model2d(trainX, trainy, testX, testy):\n",
        "    verbose, epochs, batch_size = 1, 20, 32\n",
        "    n_timesteps, n_features, n_outputs = trainX.shape[1], trainX.shape[2], trainy.shape[1]\n",
        "    input_layer = Input(shape=(trainX.shape[1], trainX.shape[2], trainX.shape[3]))\n",
        "\n",
        "    # handle image dimensions ordering\n",
        "    if tf.keras.backend.image_data_format() == 'channels_first':\n",
        "        latent = Permute((3, 1, 2))(input_layer)\n",
        "    else:\n",
        "        latent = input_layer\n",
        "\n",
        "    # define the network architecture\n",
        "    latent = Conv2D(filters=32, kernel_size=(3, 3),\n",
        "                        activation='relu')(latent)\n",
        "    latent = Conv2D(filters=64, kernel_size=(3, 3),\n",
        "                        activation='relu')(latent)\n",
        "    latent = Dropout(0.5)(latent)\n",
        "    latent = MaxPooling2D(pool_size=(2, 2))(latent)\n",
        "    latent = Flatten()(latent)\n",
        "    latent = Dense(units=100, activation='relu')(latent)\n",
        "    output_layer = Dense(units=trainy.shape[1], activation='softmax')(latent)\n",
        "\n",
        "    model = Model(inputs=input_layer, outputs=output_layer)\n",
        "\n",
        "    model.compile(loss='binary_crossentropy', optimizer='adam', metrics=['accuracy'])\n",
        "    er = EarlyStopping(patience=10, min_delta=1e-4, monitor='val_accuracy')\n",
        "    # fit network\n",
        "    model.fit(trainX, trainy, epochs=epochs, batch_size=batch_size, verbose=verbose,\n",
        "              validation_split=0.15, callbacks=[er])\n",
        "    return model\n",
        "\n",
        "# summarize scores\n",
        "def summarize_results(scores):\n",
        "    print(scores)\n",
        "    m, s = mean(scores), std(scores)\n",
        "    print('Accuracy: %.3f%% (+/-%.3f)' % (m, s))\n",
        "\n",
        "# run an experiment\n",
        "def run_experiment():\n",
        "    # load data\n",
        "\n",
        "    trainX, trainy, testX, testy = load_dataset(df_class_train,df_class_test)\n",
        "    # repeat experiment\n",
        "    scores = list()\n",
        "\n",
        "    model = evaluate_model(trainX, trainy, testX, testy)\n",
        "\n",
        "    ypred = model.predict(testX)\n",
        "    class_preds = np.argmax(ypred, axis=-1)\n",
        "    testy = np.argmax(testy,axis=-1)\n",
        "\n",
        "    from sklearn.metrics import confusion_matrix\n",
        "    print(confusion_matrix(testy,class_preds))\n",
        "    return model"
      ]
    },
    {
      "cell_type": "code",
      "execution_count": null,
      "metadata": {
        "id": "ZZGuFs6ktXL2",
        "colab": {
          "base_uri": "https://localhost:8080/"
        },
        "outputId": "cd6c4a8c-2b1c-4234-b408-4f65304eba77"
      },
      "outputs": [
        {
          "output_type": "stream",
          "name": "stdout",
          "text": [
            "(4061, 50, 4) (4061, 2) (2064, 50, 4) (2064, 2)\n"
          ]
        },
        {
          "output_type": "stream",
          "name": "stderr",
          "text": [
            "/usr/local/lib/python3.11/dist-packages/keras/src/layers/convolutional/base_conv.py:107: UserWarning: Do not pass an `input_shape`/`input_dim` argument to a layer. When using Sequential models, prefer using an `Input(shape)` object as the first layer in the model instead.\n",
            "  super().__init__(activity_regularizer=activity_regularizer, **kwargs)\n"
          ]
        },
        {
          "output_type": "stream",
          "name": "stdout",
          "text": [
            "Epoch 1/200\n",
            "\u001b[1m108/108\u001b[0m \u001b[32m━━━━━━━━━━━━━━━━━━━━\u001b[0m\u001b[37m\u001b[0m \u001b[1m4s\u001b[0m 15ms/step - accuracy: 0.5786 - loss: 0.6569 - val_accuracy: 0.6328 - val_loss: 0.6241\n",
            "Epoch 2/200\n",
            "\u001b[1m108/108\u001b[0m \u001b[32m━━━━━━━━━━━━━━━━━━━━\u001b[0m\u001b[37m\u001b[0m \u001b[1m2s\u001b[0m 12ms/step - accuracy: 0.6576 - loss: 0.5885 - val_accuracy: 0.6475 - val_loss: 0.6179\n",
            "Epoch 3/200\n",
            "\u001b[1m108/108\u001b[0m \u001b[32m━━━━━━━━━━━━━━━━━━━━\u001b[0m\u001b[37m\u001b[0m \u001b[1m1s\u001b[0m 12ms/step - accuracy: 0.6604 - loss: 0.5810 - val_accuracy: 0.6770 - val_loss: 0.5807\n",
            "Epoch 4/200\n",
            "\u001b[1m108/108\u001b[0m \u001b[32m━━━━━━━━━━━━━━━━━━━━\u001b[0m\u001b[37m\u001b[0m \u001b[1m2s\u001b[0m 20ms/step - accuracy: 0.6911 - loss: 0.5443 - val_accuracy: 0.6754 - val_loss: 0.5639\n",
            "Epoch 5/200\n",
            "\u001b[1m108/108\u001b[0m \u001b[32m━━━━━━━━━━━━━━━━━━━━\u001b[0m\u001b[37m\u001b[0m \u001b[1m2s\u001b[0m 16ms/step - accuracy: 0.7231 - loss: 0.5250 - val_accuracy: 0.7098 - val_loss: 0.5394\n",
            "Epoch 6/200\n",
            "\u001b[1m108/108\u001b[0m \u001b[32m━━━━━━━━━━━━━━━━━━━━\u001b[0m\u001b[37m\u001b[0m \u001b[1m1s\u001b[0m 12ms/step - accuracy: 0.7593 - loss: 0.4825 - val_accuracy: 0.7541 - val_loss: 0.4877\n",
            "Epoch 7/200\n",
            "\u001b[1m108/108\u001b[0m \u001b[32m━━━━━━━━━━━━━━━━━━━━\u001b[0m\u001b[37m\u001b[0m \u001b[1m1s\u001b[0m 12ms/step - accuracy: 0.7799 - loss: 0.4477 - val_accuracy: 0.7869 - val_loss: 0.4556\n",
            "Epoch 8/200\n",
            "\u001b[1m108/108\u001b[0m \u001b[32m━━━━━━━━━━━━━━━━━━━━\u001b[0m\u001b[37m\u001b[0m \u001b[1m3s\u001b[0m 13ms/step - accuracy: 0.8033 - loss: 0.4159 - val_accuracy: 0.7852 - val_loss: 0.4292\n",
            "Epoch 9/200\n",
            "\u001b[1m108/108\u001b[0m \u001b[32m━━━━━━━━━━━━━━━━━━━━\u001b[0m\u001b[37m\u001b[0m \u001b[1m1s\u001b[0m 12ms/step - accuracy: 0.8197 - loss: 0.4034 - val_accuracy: 0.8230 - val_loss: 0.3980\n",
            "Epoch 10/200\n",
            "\u001b[1m108/108\u001b[0m \u001b[32m━━━━━━━━━━━━━━━━━━━━\u001b[0m\u001b[37m\u001b[0m \u001b[1m3s\u001b[0m 12ms/step - accuracy: 0.8293 - loss: 0.3672 - val_accuracy: 0.8492 - val_loss: 0.3631\n",
            "Epoch 11/200\n",
            "\u001b[1m108/108\u001b[0m \u001b[32m━━━━━━━━━━━━━━━━━━━━\u001b[0m\u001b[37m\u001b[0m \u001b[1m3s\u001b[0m 15ms/step - accuracy: 0.8569 - loss: 0.3374 - val_accuracy: 0.8607 - val_loss: 0.3612\n",
            "Epoch 12/200\n",
            "\u001b[1m108/108\u001b[0m \u001b[32m━━━━━━━━━━━━━━━━━━━━\u001b[0m\u001b[37m\u001b[0m \u001b[1m1s\u001b[0m 12ms/step - accuracy: 0.8560 - loss: 0.3324 - val_accuracy: 0.8262 - val_loss: 0.3851\n",
            "Epoch 13/200\n",
            "\u001b[1m108/108\u001b[0m \u001b[32m━━━━━━━━━━━━━━━━━━━━\u001b[0m\u001b[37m\u001b[0m \u001b[1m3s\u001b[0m 12ms/step - accuracy: 0.8781 - loss: 0.3085 - val_accuracy: 0.7721 - val_loss: 0.4462\n",
            "Epoch 14/200\n",
            "\u001b[1m108/108\u001b[0m \u001b[32m━━━━━━━━━━━━━━━━━━━━\u001b[0m\u001b[37m\u001b[0m \u001b[1m1s\u001b[0m 13ms/step - accuracy: 0.8625 - loss: 0.3153 - val_accuracy: 0.8459 - val_loss: 0.3570\n",
            "Epoch 15/200\n",
            "\u001b[1m108/108\u001b[0m \u001b[32m━━━━━━━━━━━━━━━━━━━━\u001b[0m\u001b[37m\u001b[0m \u001b[1m1s\u001b[0m 12ms/step - accuracy: 0.8865 - loss: 0.2886 - val_accuracy: 0.8738 - val_loss: 0.3170\n",
            "Epoch 16/200\n",
            "\u001b[1m108/108\u001b[0m \u001b[32m━━━━━━━━━━━━━━━━━━━━\u001b[0m\u001b[37m\u001b[0m \u001b[1m3s\u001b[0m 12ms/step - accuracy: 0.9000 - loss: 0.2469 - val_accuracy: 0.8656 - val_loss: 0.3360\n",
            "Epoch 17/200\n",
            "\u001b[1m108/108\u001b[0m \u001b[32m━━━━━━━━━━━━━━━━━━━━\u001b[0m\u001b[37m\u001b[0m \u001b[1m3s\u001b[0m 16ms/step - accuracy: 0.8891 - loss: 0.2609 - val_accuracy: 0.8574 - val_loss: 0.3377\n",
            "Epoch 18/200\n",
            "\u001b[1m108/108\u001b[0m \u001b[32m━━━━━━━━━━━━━━━━━━━━\u001b[0m\u001b[37m\u001b[0m \u001b[1m2s\u001b[0m 13ms/step - accuracy: 0.9047 - loss: 0.2493 - val_accuracy: 0.8590 - val_loss: 0.3242\n",
            "Epoch 19/200\n",
            "\u001b[1m108/108\u001b[0m \u001b[32m━━━━━━━━━━━━━━━━━━━━\u001b[0m\u001b[37m\u001b[0m \u001b[1m1s\u001b[0m 13ms/step - accuracy: 0.9123 - loss: 0.2294 - val_accuracy: 0.8443 - val_loss: 0.3926\n",
            "Epoch 20/200\n",
            "\u001b[1m108/108\u001b[0m \u001b[32m━━━━━━━━━━━━━━━━━━━━\u001b[0m\u001b[37m\u001b[0m \u001b[1m1s\u001b[0m 13ms/step - accuracy: 0.9109 - loss: 0.2410 - val_accuracy: 0.8803 - val_loss: 0.2972\n",
            "Epoch 21/200\n",
            "\u001b[1m108/108\u001b[0m \u001b[32m━━━━━━━━━━━━━━━━━━━━\u001b[0m\u001b[37m\u001b[0m \u001b[1m1s\u001b[0m 12ms/step - accuracy: 0.9142 - loss: 0.1953 - val_accuracy: 0.8672 - val_loss: 0.3102\n",
            "Epoch 22/200\n",
            "\u001b[1m108/108\u001b[0m \u001b[32m━━━━━━━━━━━━━━━━━━━━\u001b[0m\u001b[37m\u001b[0m \u001b[1m3s\u001b[0m 13ms/step - accuracy: 0.9140 - loss: 0.2014 - val_accuracy: 0.8607 - val_loss: 0.3136\n",
            "Epoch 23/200\n",
            "\u001b[1m108/108\u001b[0m \u001b[32m━━━━━━━━━━━━━━━━━━━━\u001b[0m\u001b[37m\u001b[0m \u001b[1m3s\u001b[0m 19ms/step - accuracy: 0.9227 - loss: 0.1933 - val_accuracy: 0.8770 - val_loss: 0.2974\n",
            "Epoch 24/200\n",
            "\u001b[1m108/108\u001b[0m \u001b[32m━━━━━━━━━━━━━━━━━━━━\u001b[0m\u001b[37m\u001b[0m \u001b[1m1s\u001b[0m 12ms/step - accuracy: 0.9207 - loss: 0.1949 - val_accuracy: 0.8590 - val_loss: 0.3278\n",
            "Epoch 25/200\n",
            "\u001b[1m108/108\u001b[0m \u001b[32m━━━━━━━━━━━━━━━━━━━━\u001b[0m\u001b[37m\u001b[0m \u001b[1m2s\u001b[0m 12ms/step - accuracy: 0.9246 - loss: 0.1879 - val_accuracy: 0.8721 - val_loss: 0.2990\n",
            "Epoch 26/200\n",
            "\u001b[1m108/108\u001b[0m \u001b[32m━━━━━━━━━━━━━━━━━━━━\u001b[0m\u001b[37m\u001b[0m \u001b[1m3s\u001b[0m 12ms/step - accuracy: 0.9272 - loss: 0.1822 - val_accuracy: 0.8590 - val_loss: 0.3435\n",
            "Epoch 27/200\n",
            "\u001b[1m108/108\u001b[0m \u001b[32m━━━━━━━━━━━━━━━━━━━━\u001b[0m\u001b[37m\u001b[0m \u001b[1m3s\u001b[0m 12ms/step - accuracy: 0.9463 - loss: 0.1559 - val_accuracy: 0.8754 - val_loss: 0.2874\n",
            "Epoch 28/200\n",
            "\u001b[1m108/108\u001b[0m \u001b[32m━━━━━━━━━━━━━━━━━━━━\u001b[0m\u001b[37m\u001b[0m \u001b[1m2s\u001b[0m 15ms/step - accuracy: 0.9403 - loss: 0.1528 - val_accuracy: 0.8689 - val_loss: 0.3188\n",
            "Epoch 29/200\n",
            "\u001b[1m108/108\u001b[0m \u001b[32m━━━━━━━━━━━━━━━━━━━━\u001b[0m\u001b[37m\u001b[0m \u001b[1m2s\u001b[0m 14ms/step - accuracy: 0.9393 - loss: 0.1471 - val_accuracy: 0.8951 - val_loss: 0.2814\n",
            "Epoch 30/200\n",
            "\u001b[1m108/108\u001b[0m \u001b[32m━━━━━━━━━━━━━━━━━━━━\u001b[0m\u001b[37m\u001b[0m \u001b[1m1s\u001b[0m 13ms/step - accuracy: 0.9485 - loss: 0.1348 - val_accuracy: 0.8787 - val_loss: 0.2930\n",
            "Epoch 31/200\n",
            "\u001b[1m108/108\u001b[0m \u001b[32m━━━━━━━━━━━━━━━━━━━━\u001b[0m\u001b[37m\u001b[0m \u001b[1m1s\u001b[0m 13ms/step - accuracy: 0.9488 - loss: 0.1344 - val_accuracy: 0.8525 - val_loss: 0.3434\n",
            "Epoch 32/200\n",
            "\u001b[1m108/108\u001b[0m \u001b[32m━━━━━━━━━━━━━━━━━━━━\u001b[0m\u001b[37m\u001b[0m \u001b[1m3s\u001b[0m 13ms/step - accuracy: 0.9444 - loss: 0.1428 - val_accuracy: 0.8852 - val_loss: 0.2906\n",
            "Epoch 33/200\n",
            "\u001b[1m108/108\u001b[0m \u001b[32m━━━━━━━━━━━━━━━━━━━━\u001b[0m\u001b[37m\u001b[0m \u001b[1m1s\u001b[0m 13ms/step - accuracy: 0.9513 - loss: 0.1345 - val_accuracy: 0.8607 - val_loss: 0.3294\n",
            "Epoch 34/200\n",
            "\u001b[1m108/108\u001b[0m \u001b[32m━━━━━━━━━━━━━━━━━━━━\u001b[0m\u001b[37m\u001b[0m \u001b[1m3s\u001b[0m 14ms/step - accuracy: 0.9616 - loss: 0.1135 - val_accuracy: 0.8820 - val_loss: 0.2779\n",
            "Epoch 35/200\n",
            "\u001b[1m108/108\u001b[0m \u001b[32m━━━━━━━━━━━━━━━━━━━━\u001b[0m\u001b[37m\u001b[0m \u001b[1m2s\u001b[0m 18ms/step - accuracy: 0.9570 - loss: 0.1162 - val_accuracy: 0.8787 - val_loss: 0.2949\n",
            "Epoch 36/200\n",
            "\u001b[1m108/108\u001b[0m \u001b[32m━━━━━━━━━━━━━━━━━━━━\u001b[0m\u001b[37m\u001b[0m \u001b[1m2s\u001b[0m 13ms/step - accuracy: 0.9594 - loss: 0.1101 - val_accuracy: 0.8951 - val_loss: 0.2808\n",
            "Epoch 37/200\n",
            "\u001b[1m108/108\u001b[0m \u001b[32m━━━━━━━━━━━━━━━━━━━━\u001b[0m\u001b[37m\u001b[0m \u001b[1m1s\u001b[0m 13ms/step - accuracy: 0.9606 - loss: 0.1057 - val_accuracy: 0.8951 - val_loss: 0.2597\n",
            "Epoch 38/200\n",
            "\u001b[1m108/108\u001b[0m \u001b[32m━━━━━━━━━━━━━━━━━━━━\u001b[0m\u001b[37m\u001b[0m \u001b[1m1s\u001b[0m 12ms/step - accuracy: 0.9687 - loss: 0.0906 - val_accuracy: 0.8934 - val_loss: 0.2586\n",
            "Epoch 39/200\n",
            "\u001b[1m108/108\u001b[0m \u001b[32m━━━━━━━━━━━━━━━━━━━━\u001b[0m\u001b[37m\u001b[0m \u001b[1m2s\u001b[0m 20ms/step - accuracy: 0.9711 - loss: 0.0894 - val_accuracy: 0.8951 - val_loss: 0.3159\n",
            "\u001b[1m65/65\u001b[0m \u001b[32m━━━━━━━━━━━━━━━━━━━━\u001b[0m\u001b[37m\u001b[0m \u001b[1m1s\u001b[0m 13ms/step\n",
            "[[682 215]\n",
            " [511 656]]\n"
          ]
        }
      ],
      "source": [
        "model = run_experiment()"
      ]
    },
    {
      "cell_type": "markdown",
      "source": [
        "Question 12. Compute the 'accuracy' of this model (true positives + true negatives)/ (total). Is this model (CNN) more accurate than the previous models (LogReg, RF, MLP)? Were the manually engineered features better?"
      ],
      "metadata": {
        "id": "vvtsAw8HnTiz"
      }
    },
    {
      "cell_type": "code",
      "execution_count": null,
      "metadata": {
        "id": "8_7PiK_WtXL4",
        "outputId": "7ec7e93c-b705-41a5-b1a9-580eda946072",
        "colab": {
          "base_uri": "https://localhost:8080/",
          "height": 447
        }
      },
      "outputs": [
        {
          "output_type": "execute_result",
          "data": {
            "text/plain": [
              "[<matplotlib.lines.Line2D at 0x7ade138aec50>]"
            ]
          },
          "metadata": {},
          "execution_count": 37
        },
        {
          "output_type": "display_data",
          "data": {
            "text/plain": [
              "<Figure size 640x480 with 1 Axes>"
            ],
            "image/png": "[encoded data removed]"
          },
          "metadata": {}
        }
      ],
      "source": [
        "%matplotlib inline\n",
        "plt.plot(df_class_test[0,:-1,0])\n",
        "plt.plot(df_class_test[0,:-1,1])\n",
        "plt.plot(df_class_test[0,:-1,2])\n",
        "plt.plot(df_class_test[0,:-1,3])"
      ]
    },
    {
      "cell_type": "markdown",
      "source": [
        "Question 13. Read & briefly summarize in your own words significant points of information from the following MATLAB EEGLab tutorials: https://eeglab.org/tutorials/\n",
        "\n",
        "Sections:\n",
        "5. Preprocess data - a. Filtering\n",
        "6. Reject artifacts - all sections a-d.\n",
        "8. Plot data - all sections a-e.\n",
        "\n",
        "***What did you learn from the EEGLab tutorials about EEG, Filtering, and Artifacts that you did not yet know?***\n",
        "\n",
        "(Suggested/Optional) Download & use the MATLAB EEGLab on the dataset used in this notebook to try EEGLab yourself and get a better understanding of the tutorials."
      ],
      "metadata": {
        "id": "7uRWBFi-00I6"
      }
    }
  ],
  "metadata": {
    "colab": {
      "provenance": [],
      "include_colab_link": true
    },
    "kernelspec": {
      "display_name": "Python 3",
      "language": "python",
      "name": "python3"
    },
    "language_info": {
      "codemirror_mode": {
        "name": "ipython",
        "version": 3
      },
      "file_extension": ".py",
      "mimetype": "text/x-python",
      "name": "python",
      "nbconvert_exporter": "python",
      "pygments_lexer": "ipython3",
      "version": "3.6.4"
    },
    "widgets": {
      "application/vnd.jupyter.widget-state+json": {
        "a5ddcdff26884e76903e6f88a1bc464d": {
          "model_module": "@jupyter-widgets/controls",
          "model_name": "HBoxModel",
          "model_module_version": "1.5.0",
          "state": {
            "_dom_classes": [],
            "_model_module": "@jupyter-widgets/controls",
            "_model_module_version": "1.5.0",
            "_model_name": "HBoxModel",
            "_view_count": null,
            "_view_module": "@jupyter-widgets/controls",
            "_view_module_version": "1.5.0",
            "_view_name": "HBoxView",
            "box_style": "",
            "children": [
              "IPY_MODEL_c71b64b4ef4644308bc7fb3ec094b153",
              "IPY_MODEL_e6d550f97c8a4c0cbd32bdc56529f21e",
              "IPY_MODEL_84b26e9cbe304a7c98b9d8fa6e8f60f0"
            ],
            "layout": "IPY_MODEL_99230b78be404dbabe738b147f6d5eb8"
          }
        },
        "c71b64b4ef4644308bc7fb3ec094b153": {
          "model_module": "@jupyter-widgets/controls",
          "model_name": "HTMLModel",
          "model_module_version": "1.5.0",
          "state": {
            "_dom_classes": [],
            "_model_module": "@jupyter-widgets/controls",
            "_model_module_version": "1.5.0",
            "_model_name": "HTMLModel",
            "_view_count": null,
            "_view_module": "@jupyter-widgets/controls",
            "_view_module_version": "1.5.0",
            "_view_name": "HTMLView",
            "description": "",
            "description_tooltip": null,
            "layout": "IPY_MODEL_63ffbac0b0374c539daf50c82c1fd459",
            "placeholder": "​",
            "style": "IPY_MODEL_1b12030be6664ff2824ed23905f03f3d",
            "value": "100%"
          }
        },
        "e6d550f97c8a4c0cbd32bdc56529f21e": {
          "model_module": "@jupyter-widgets/controls",
          "model_name": "FloatProgressModel",
          "model_module_version": "1.5.0",
          "state": {
            "_dom_classes": [],
            "_model_module": "@jupyter-widgets/controls",
            "_model_module_version": "1.5.0",
            "_model_name": "FloatProgressModel",
            "_view_count": null,
            "_view_module": "@jupyter-widgets/controls",
            "_view_module_version": "1.5.0",
            "_view_name": "ProgressView",
            "bar_style": "success",
            "description": "",
            "description_tooltip": null,
            "layout": "IPY_MODEL_d2b728b78e5f41e594d3d6b9d7991234",
            "max": 4197,
            "min": 0,
            "orientation": "horizontal",
            "style": "IPY_MODEL_857cef79e4f74270bdcd1cb220ab44b8",
            "value": 4197
          }
        },
        "84b26e9cbe304a7c98b9d8fa6e8f60f0": {
          "model_module": "@jupyter-widgets/controls",
          "model_name": "HTMLModel",
          "model_module_version": "1.5.0",
          "state": {
            "_dom_classes": [],
            "_model_module": "@jupyter-widgets/controls",
            "_model_module_version": "1.5.0",
            "_model_name": "HTMLModel",
            "_view_count": null,
            "_view_module": "@jupyter-widgets/controls",
            "_view_module_version": "1.5.0",
            "_view_name": "HTMLView",
            "description": "",
            "description_tooltip": null,
            "layout": "IPY_MODEL_dcd474d8f5f24e2f9c882322a64e1ac9",
            "placeholder": "​",
            "style": "IPY_MODEL_0485979b90d44904acee7a0febb42049",
            "value": " 4197/4197 [00:03&lt;00:00, 1437.19it/s]"
          }
        },
        "99230b78be404dbabe738b147f6d5eb8": {
          "model_module": "@jupyter-widgets/base",
          "model_name": "LayoutModel",
          "model_module_version": "1.2.0",
          "state": {
            "_model_module": "@jupyter-widgets/base",
            "_model_module_version": "1.2.0",
            "_model_name": "LayoutModel",
            "_view_count": null,
            "_view_module": "@jupyter-widgets/base",
            "_view_module_version": "1.2.0",
            "_view_name": "LayoutView",
            "align_content": null,
            "align_items": null,
            "align_self": null,
            "border": null,
            "bottom": null,
            "display": null,
            "flex": null,
            "flex_flow": null,
            "grid_area": null,
            "grid_auto_columns": null,
            "grid_auto_flow": null,
            "grid_auto_rows": null,
            "grid_column": null,
            "grid_gap": null,
            "grid_row": null,
            "grid_template_areas": null,
            "grid_template_columns": null,
            "grid_template_rows": null,
            "height": null,
            "justify_content": null,
            "justify_items": null,
            "left": null,
            "margin": null,
            "max_height": null,
            "max_width": null,
            "min_height": null,
            "min_width": null,
            "object_fit": null,
            "object_position": null,
            "order": null,
            "overflow": null,
            "overflow_x": null,
            "overflow_y": null,
            "padding": null,
            "right": null,
            "top": null,
            "visibility": null,
            "width": null
          }
        },
        "63ffbac0b0374c539daf50c82c1fd459": {
          "model_module": "@jupyter-widgets/base",
          "model_name": "LayoutModel",
          "model_module_version": "1.2.0",
          "state": {
            "_model_module": "@jupyter-widgets/base",
            "_model_module_version": "1.2.0",
            "_model_name": "LayoutModel",
            "_view_count": null,
            "_view_module": "@jupyter-widgets/base",
            "_view_module_version": "1.2.0",
            "_view_name": "LayoutView",
            "align_content": null,
            "align_items": null,
            "align_self": null,
            "border": null,
            "bottom": null,
            "display": null,
            "flex": null,
            "flex_flow": null,
            "grid_area": null,
            "grid_auto_columns": null,
            "grid_auto_flow": null,
            "grid_auto_rows": null,
            "grid_column": null,
            "grid_gap": null,
            "grid_row": null,
            "grid_template_areas": null,
            "grid_template_columns": null,
            "grid_template_rows": null,
            "height": null,
            "justify_content": null,
            "justify_items": null,
            "left": null,
            "margin": null,
            "max_height": null,
            "max_width": null,
            "min_height": null,
            "min_width": null,
            "object_fit": null,
            "object_position": null,
            "order": null,
            "overflow": null,
            "overflow_x": null,
            "overflow_y": null,
            "padding": null,
            "right": null,
            "top": null,
            "visibility": null,
            "width": null
          }
        },
        "1b12030be6664ff2824ed23905f03f3d": {
          "model_module": "@jupyter-widgets/controls",
          "model_name": "DescriptionStyleModel",
          "model_module_version": "1.5.0",
          "state": {
            "_model_module": "@jupyter-widgets/controls",
            "_model_module_version": "1.5.0",
            "_model_name": "DescriptionStyleModel",
            "_view_count": null,
            "_view_module": "@jupyter-widgets/base",
            "_view_module_version": "1.2.0",
            "_view_name": "StyleView",
            "description_width": ""
          }
        },
        "d2b728b78e5f41e594d3d6b9d7991234": {
          "model_module": "@jupyter-widgets/base",
          "model_name": "LayoutModel",
          "model_module_version": "1.2.0",
          "state": {
            "_model_module": "@jupyter-widgets/base",
            "_model_module_version": "1.2.0",
            "_model_name": "LayoutModel",
            "_view_count": null,
            "_view_module": "@jupyter-widgets/base",
            "_view_module_version": "1.2.0",
            "_view_name": "LayoutView",
            "align_content": null,
            "align_items": null,
            "align_self": null,
            "border": null,
            "bottom": null,
            "display": null,
            "flex": null,
            "flex_flow": null,
            "grid_area": null,
            "grid_auto_columns": null,
            "grid_auto_flow": null,
            "grid_auto_rows": null,
            "grid_column": null,
            "grid_gap": null,
            "grid_row": null,
            "grid_template_areas": null,
            "grid_template_columns": null,
            "grid_template_rows": null,
            "height": null,
            "justify_content": null,
            "justify_items": null,
            "left": null,
            "margin": null,
            "max_height": null,
            "max_width": null,
            "min_height": null,
            "min_width": null,
            "object_fit": null,
            "object_position": null,
            "order": null,
            "overflow": null,
            "overflow_x": null,
            "overflow_y": null,
            "padding": null,
            "right": null,
            "top": null,
            "visibility": null,
            "width": null
          }
        },
        "857cef79e4f74270bdcd1cb220ab44b8": {
          "model_module": "@jupyter-widgets/controls",
          "model_name": "ProgressStyleModel",
          "model_module_version": "1.5.0",
          "state": {
            "_model_module": "@jupyter-widgets/controls",
            "_model_module_version": "1.5.0",
            "_model_name": "ProgressStyleModel",
            "_view_count": null,
            "_view_module": "@jupyter-widgets/base",
            "_view_module_version": "1.2.0",
            "_view_name": "StyleView",
            "bar_color": null,
            "description_width": ""
          }
        },
        "dcd474d8f5f24e2f9c882322a64e1ac9": {
          "model_module": "@jupyter-widgets/base",
          "model_name": "LayoutModel",
          "model_module_version": "1.2.0",
          "state": {
            "_model_module": "@jupyter-widgets/base",
            "_model_module_version": "1.2.0",
            "_model_name": "LayoutModel",
            "_view_count": null,
            "_view_module": "@jupyter-widgets/base",
            "_view_module_version": "1.2.0",
            "_view_name": "LayoutView",
            "align_content": null,
            "align_items": null,
            "align_self": null,
            "border": null,
            "bottom": null,
            "display": null,
            "flex": null,
            "flex_flow": null,
            "grid_area": null,
            "grid_auto_columns": null,
            "grid_auto_flow": null,
            "grid_auto_rows": null,
            "grid_column": null,
            "grid_gap": null,
            "grid_row": null,
            "grid_template_areas": null,
            "grid_template_columns": null,
            "grid_template_rows": null,
            "height": null,
            "justify_content": null,
            "justify_items": null,
            "left": null,
            "margin": null,
            "max_height": null,
            "max_width": null,
            "min_height": null,
            "min_width": null,
            "object_fit": null,
            "object_position": null,
            "order": null,
            "overflow": null,
            "overflow_x": null,
            "overflow_y": null,
            "padding": null,
            "right": null,
            "top": null,
            "visibility": null,
            "width": null
          }
        },
        "0485979b90d44904acee7a0febb42049": {
          "model_module": "@jupyter-widgets/controls",
          "model_name": "DescriptionStyleModel",
          "model_module_version": "1.5.0",
          "state": {
            "_model_module": "@jupyter-widgets/controls",
            "_model_module_version": "1.5.0",
            "_model_name": "DescriptionStyleModel",
            "_view_count": null,
            "_view_module": "@jupyter-widgets/base",
            "_view_module_version": "1.2.0",
            "_view_name": "StyleView",
            "description_width": ""
          }
        },
        "9432205fd499408f81c277c8617e2c08": {
          "model_module": "@jupyter-widgets/controls",
          "model_name": "HBoxModel",
          "model_module_version": "1.5.0",
          "state": {
            "_dom_classes": [],
            "_model_module": "@jupyter-widgets/controls",
            "_model_module_version": "1.5.0",
            "_model_name": "HBoxModel",
            "_view_count": null,
            "_view_module": "@jupyter-widgets/controls",
            "_view_module_version": "1.5.0",
            "_view_name": "HBoxView",
            "box_style": "",
            "children": [
              "IPY_MODEL_80d9857a75834e02beff77d1513ba843",
              "IPY_MODEL_22009f4bf9ac4797b9702ef60ca6832b",
              "IPY_MODEL_f964fc30791c44a6b7f31d4c3073b37f"
            ],
            "layout": "IPY_MODEL_d9dd91b761624e76a9c7e5566b7356ee"
          }
        },
        "80d9857a75834e02beff77d1513ba843": {
          "model_module": "@jupyter-widgets/controls",
          "model_name": "HTMLModel",
          "model_module_version": "1.5.0",
          "state": {
            "_dom_classes": [],
            "_model_module": "@jupyter-widgets/controls",
            "_model_module_version": "1.5.0",
            "_model_name": "HTMLModel",
            "_view_count": null,
            "_view_module": "@jupyter-widgets/controls",
            "_view_module_version": "1.5.0",
            "_view_name": "HTMLView",
            "description": "",
            "description_tooltip": null,
            "layout": "IPY_MODEL_2f99e12ae5444e6aa2a116de4c00eb4c",
            "placeholder": "​",
            "style": "IPY_MODEL_bb838b1461ab45e990ccb041b75d4bd2",
            "value": "100%"
          }
        },
        "22009f4bf9ac4797b9702ef60ca6832b": {
          "model_module": "@jupyter-widgets/controls",
          "model_name": "FloatProgressModel",
          "model_module_version": "1.5.0",
          "state": {
            "_dom_classes": [],
            "_model_module": "@jupyter-widgets/controls",
            "_model_module_version": "1.5.0",
            "_model_name": "FloatProgressModel",
            "_view_count": null,
            "_view_module": "@jupyter-widgets/controls",
            "_view_module_version": "1.5.0",
            "_view_name": "ProgressView",
            "bar_style": "success",
            "description": "",
            "description_tooltip": null,
            "layout": "IPY_MODEL_2be383c7695943778673ded1fd80e01a",
            "max": 2109,
            "min": 0,
            "orientation": "horizontal",
            "style": "IPY_MODEL_d0a07082fe184728803e7a25095cc167",
            "value": 2109
          }
        },
        "f964fc30791c44a6b7f31d4c3073b37f": {
          "model_module": "@jupyter-widgets/controls",
          "model_name": "HTMLModel",
          "model_module_version": "1.5.0",
          "state": {
            "_dom_classes": [],
            "_model_module": "@jupyter-widgets/controls",
            "_model_module_version": "1.5.0",
            "_model_name": "HTMLModel",
            "_view_count": null,
            "_view_module": "@jupyter-widgets/controls",
            "_view_module_version": "1.5.0",
            "_view_name": "HTMLView",
            "description": "",
            "description_tooltip": null,
            "layout": "IPY_MODEL_6b01b6b05abe4365a39df172aafdf43c",
            "placeholder": "​",
            "style": "IPY_MODEL_c5e16aec845c43c7b4fb45211797a146",
            "value": " 2109/2109 [00:01&lt;00:00, 1252.51it/s]"
          }
        },
        "d9dd91b761624e76a9c7e5566b7356ee": {
          "model_module": "@jupyter-widgets/base",
          "model_name": "LayoutModel",
          "model_module_version": "1.2.0",
          "state": {
            "_model_module": "@jupyter-widgets/base",
            "_model_module_version": "1.2.0",
            "_model_name": "LayoutModel",
            "_view_count": null,
            "_view_module": "@jupyter-widgets/base",
            "_view_module_version": "1.2.0",
            "_view_name": "LayoutView",
            "align_content": null,
            "align_items": null,
            "align_self": null,
            "border": null,
            "bottom": null,
            "display": null,
            "flex": null,
            "flex_flow": null,
            "grid_area": null,
            "grid_auto_columns": null,
            "grid_auto_flow": null,
            "grid_auto_rows": null,
            "grid_column": null,
            "grid_gap": null,
            "grid_row": null,
            "grid_template_areas": null,
            "grid_template_columns": null,
            "grid_template_rows": null,
            "height": null,
            "justify_content": null,
            "justify_items": null,
            "left": null,
            "margin": null,
            "max_height": null,
            "max_width": null,
            "min_height": null,
            "min_width": null,
            "object_fit": null,
            "object_position": null,
            "order": null,
            "overflow": null,
            "overflow_x": null,
            "overflow_y": null,
            "padding": null,
            "right": null,
            "top": null,
            "visibility": null,
            "width": null
          }
        },
        "2f99e12ae5444e6aa2a116de4c00eb4c": {
          "model_module": "@jupyter-widgets/base",
          "model_name": "LayoutModel",
          "model_module_version": "1.2.0",
          "state": {
            "_model_module": "@jupyter-widgets/base",
            "_model_module_version": "1.2.0",
            "_model_name": "LayoutModel",
            "_view_count": null,
            "_view_module": "@jupyter-widgets/base",
            "_view_module_version": "1.2.0",
            "_view_name": "LayoutView",
            "align_content": null,
            "align_items": null,
            "align_self": null,
            "border": null,
            "bottom": null,
            "display": null,
            "flex": null,
            "flex_flow": null,
            "grid_area": null,
            "grid_auto_columns": null,
            "grid_auto_flow": null,
            "grid_auto_rows": null,
            "grid_column": null,
            "grid_gap": null,
            "grid_row": null,
            "grid_template_areas": null,
            "grid_template_columns": null,
            "grid_template_rows": null,
            "height": null,
            "justify_content": null,
            "justify_items": null,
            "left": null,
            "margin": null,
            "max_height": null,
            "max_width": null,
            "min_height": null,
            "min_width": null,
            "object_fit": null,
            "object_position": null,
            "order": null,
            "overflow": null,
            "overflow_x": null,
            "overflow_y": null,
            "padding": null,
            "right": null,
            "top": null,
            "visibility": null,
            "width": null
          }
        },
        "bb838b1461ab45e990ccb041b75d4bd2": {
          "model_module": "@jupyter-widgets/controls",
          "model_name": "DescriptionStyleModel",
          "model_module_version": "1.5.0",
          "state": {
            "_model_module": "@jupyter-widgets/controls",
            "_model_module_version": "1.5.0",
            "_model_name": "DescriptionStyleModel",
            "_view_count": null,
            "_view_module": "@jupyter-widgets/base",
            "_view_module_version": "1.2.0",
            "_view_name": "StyleView",
            "description_width": ""
          }
        },
        "2be383c7695943778673ded1fd80e01a": {
          "model_module": "@jupyter-widgets/base",
          "model_name": "LayoutModel",
          "model_module_version": "1.2.0",
          "state": {
            "_model_module": "@jupyter-widgets/base",
            "_model_module_version": "1.2.0",
            "_model_name": "LayoutModel",
            "_view_count": null,
            "_view_module": "@jupyter-widgets/base",
            "_view_module_version": "1.2.0",
            "_view_name": "LayoutView",
            "align_content": null,
            "align_items": null,
            "align_self": null,
            "border": null,
            "bottom": null,
            "display": null,
            "flex": null,
            "flex_flow": null,
            "grid_area": null,
            "grid_auto_columns": null,
            "grid_auto_flow": null,
            "grid_auto_rows": null,
            "grid_column": null,
            "grid_gap": null,
            "grid_row": null,
            "grid_template_areas": null,
            "grid_template_columns": null,
            "grid_template_rows": null,
            "height": null,
            "justify_content": null,
            "justify_items": null,
            "left": null,
            "margin": null,
            "max_height": null,
            "max_width": null,
            "min_height": null,
            "min_width": null,
            "object_fit": null,
            "object_position": null,
            "order": null,
            "overflow": null,
            "overflow_x": null,
            "overflow_y": null,
            "padding": null,
            "right": null,
            "top": null,
            "visibility": null,
            "width": null
          }
        },
        "d0a07082fe184728803e7a25095cc167": {
          "model_module": "@jupyter-widgets/controls",
          "model_name": "ProgressStyleModel",
          "model_module_version": "1.5.0",
          "state": {
            "_model_module": "@jupyter-widgets/controls",
            "_model_module_version": "1.5.0",
            "_model_name": "ProgressStyleModel",
            "_view_count": null,
            "_view_module": "@jupyter-widgets/base",
            "_view_module_version": "1.2.0",
            "_view_name": "StyleView",
            "bar_color": null,
            "description_width": ""
          }
        },
        "6b01b6b05abe4365a39df172aafdf43c": {
          "model_module": "@jupyter-widgets/base",
          "model_name": "LayoutModel",
          "model_module_version": "1.2.0",
          "state": {
            "_model_module": "@jupyter-widgets/base",
            "_model_module_version": "1.2.0",
            "_model_name": "LayoutModel",
            "_view_count": null,
            "_view_module": "@jupyter-widgets/base",
            "_view_module_version": "1.2.0",
            "_view_name": "LayoutView",
            "align_content": null,
            "align_items": null,
            "align_self": null,
            "border": null,
            "bottom": null,
            "display": null,
            "flex": null,
            "flex_flow": null,
            "grid_area": null,
            "grid_auto_columns": null,
            "grid_auto_flow": null,
            "grid_auto_rows": null,
            "grid_column": null,
            "grid_gap": null,
            "grid_row": null,
            "grid_template_areas": null,
            "grid_template_columns": null,
            "grid_template_rows": null,
            "height": null,
            "justify_content": null,
            "justify_items": null,
            "left": null,
            "margin": null,
            "max_height": null,
            "max_width": null,
            "min_height": null,
            "min_width": null,
            "object_fit": null,
            "object_position": null,
            "order": null,
            "overflow": null,
            "overflow_x": null,
            "overflow_y": null,
            "padding": null,
            "right": null,
            "top": null,
            "visibility": null,
            "width": null
          }
        },
        "c5e16aec845c43c7b4fb45211797a146": {
          "model_module": "@jupyter-widgets/controls",
          "model_name": "DescriptionStyleModel",
          "model_module_version": "1.5.0",
          "state": {
            "_model_module": "@jupyter-widgets/controls",
            "_model_module_version": "1.5.0",
            "_model_name": "DescriptionStyleModel",
            "_view_count": null,
            "_view_module": "@jupyter-widgets/base",
            "_view_module_version": "1.2.0",
            "_view_name": "StyleView",
            "description_width": ""
          }
        }
      }
    }
  },
  "nbformat": 4,
  "nbformat_minor": 0
}